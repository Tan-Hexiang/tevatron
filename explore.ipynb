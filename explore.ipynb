{
 "cells": [
  {
   "cell_type": "code",
   "execution_count": 9,
   "metadata": {},
   "outputs": [
    {
     "data": {
      "text/plain": [
       "1050767"
      ]
     },
     "execution_count": 9,
     "metadata": {},
     "output_type": "execute_result"
    }
   ],
   "source": [
    "import pickle\n",
    "with open(\"data_nq/embs/corpus_emb.00.pkl\",'rb') as f: \n",
    "    reps, lookup = pickle.load(f)\n",
    "len(lookup)"
   ]
  },
  {
   "cell_type": "code",
   "execution_count": 11,
   "metadata": {},
   "outputs": [
    {
     "data": {
      "text/plain": [
       "'1'"
      ]
     },
     "execution_count": 11,
     "metadata": {},
     "output_type": "execute_result"
    }
   ],
   "source": [
    "lookup[0]"
   ]
  },
  {
   "cell_type": "code",
   "execution_count": 1,
   "metadata": {},
   "outputs": [
    {
     "name": "stderr",
     "output_type": "stream",
     "text": [
      "/home/tanhexiang/miniconda3/envs/tevatron/lib/python3.9/site-packages/tqdm/auto.py:21: TqdmWarning: IProgress not found. Please update jupyter and ipywidgets. See https://ipywidgets.readthedocs.io/en/stable/user_install.html\n",
      "  from .autonotebook import tqdm as notebook_tqdm\n",
      "Using the latest cached version of the module from /home/tanhexiang/.cache/huggingface/modules/datasets_modules/datasets/Tevatron--wikipedia-nq-corpus/6fdad22e90fbe1f0fa3379cb8364b37dedc8ab374971aef1e4c4169200bb172e (last modified on Tue Mar  7 02:57:42 2023) since it couldn't be found locally at Tevatron/wikipedia-nq-corpus., or remotely on the Hugging Face Hub.\n"
     ]
    },
    {
     "name": "stdout",
     "output_type": "stream",
     "text": [
      "Downloading and preparing dataset wikipedia_nq_corpus/default to /data/tanhexiang/.cache/huggingface/datasets/Tevatron___wikipedia_nq_corpus/default/0.0.1/6fdad22e90fbe1f0fa3379cb8364b37dedc8ab374971aef1e4c4169200bb172e...\n"
     ]
    },
    {
     "name": "stderr",
     "output_type": "stream",
     "text": [
      "HF google storage unreachable. Downloading and preparing it from source\n",
      "  0%|          | 0/1 [00:00<?, ?it/s]"
     ]
    },
    {
     "ename": "ConnectionError",
     "evalue": "Couldn't reach https://huggingface.co/datasets/Tevatron/wikipedia-nq-corpus/resolve/main/corpus.jsonl.gz (ConnectTimeout(MaxRetryError(\"HTTPSConnectionPool(host='huggingface.co', port=443): Max retries exceeded with url: /datasets/Tevatron/wikipedia-nq-corpus/resolve/main/corpus.jsonl.gz (Caused by ConnectTimeoutError(<urllib3.connection.HTTPSConnection object at 0x7f2e7c7fad30>, 'Connection to 10.130.28.94 timed out. (connect timeout=10)'))\")))",
     "output_type": "error",
     "traceback": [
      "\u001b[0;31m---------------------------------------------------------------------------\u001b[0m",
      "\u001b[0;31mConnectionError\u001b[0m                           Traceback (most recent call last)",
      "Cell \u001b[0;32mIn[1], line 2\u001b[0m\n\u001b[1;32m      1\u001b[0m \u001b[39mfrom\u001b[39;00m \u001b[39mdatasets\u001b[39;00m \u001b[39mimport\u001b[39;00m load_dataset\n\u001b[0;32m----> 2\u001b[0m data  \u001b[39m=\u001b[39m load_dataset(\u001b[39m\"\u001b[39;49m\u001b[39mTevatron/wikipedia-nq-corpus\u001b[39;49m\u001b[39m\"\u001b[39;49m)[\u001b[39m'\u001b[39m\u001b[39mtrain\u001b[39m\u001b[39m'\u001b[39m]\n",
      "File \u001b[0;32m~/miniconda3/envs/tevatron/lib/python3.9/site-packages/datasets/load.py:1694\u001b[0m, in \u001b[0;36mload_dataset\u001b[0;34m(path, name, data_dir, data_files, split, cache_dir, features, download_config, download_mode, ignore_verifications, keep_in_memory, save_infos, revision, use_auth_token, task, streaming, script_version, **config_kwargs)\u001b[0m\n\u001b[1;32m   1691\u001b[0m try_from_hf_gcs \u001b[39m=\u001b[39m path \u001b[39mnot\u001b[39;00m \u001b[39min\u001b[39;00m _PACKAGED_DATASETS_MODULES\n\u001b[1;32m   1693\u001b[0m \u001b[39m# Download and prepare data\u001b[39;00m\n\u001b[0;32m-> 1694\u001b[0m builder_instance\u001b[39m.\u001b[39;49mdownload_and_prepare(\n\u001b[1;32m   1695\u001b[0m     download_config\u001b[39m=\u001b[39;49mdownload_config,\n\u001b[1;32m   1696\u001b[0m     download_mode\u001b[39m=\u001b[39;49mdownload_mode,\n\u001b[1;32m   1697\u001b[0m     ignore_verifications\u001b[39m=\u001b[39;49mignore_verifications,\n\u001b[1;32m   1698\u001b[0m     try_from_hf_gcs\u001b[39m=\u001b[39;49mtry_from_hf_gcs,\n\u001b[1;32m   1699\u001b[0m     use_auth_token\u001b[39m=\u001b[39;49muse_auth_token,\n\u001b[1;32m   1700\u001b[0m )\n\u001b[1;32m   1702\u001b[0m \u001b[39m# Build dataset for splits\u001b[39;00m\n\u001b[1;32m   1703\u001b[0m keep_in_memory \u001b[39m=\u001b[39m (\n\u001b[1;32m   1704\u001b[0m     keep_in_memory \u001b[39mif\u001b[39;00m keep_in_memory \u001b[39mis\u001b[39;00m \u001b[39mnot\u001b[39;00m \u001b[39mNone\u001b[39;00m \u001b[39melse\u001b[39;00m is_small_dataset(builder_instance\u001b[39m.\u001b[39minfo\u001b[39m.\u001b[39mdataset_size)\n\u001b[1;32m   1705\u001b[0m )\n",
      "File \u001b[0;32m~/miniconda3/envs/tevatron/lib/python3.9/site-packages/datasets/builder.py:595\u001b[0m, in \u001b[0;36mDatasetBuilder.download_and_prepare\u001b[0;34m(self, download_config, download_mode, ignore_verifications, try_from_hf_gcs, dl_manager, base_path, use_auth_token, **download_and_prepare_kwargs)\u001b[0m\n\u001b[1;32m    593\u001b[0m         logger\u001b[39m.\u001b[39mwarning(\u001b[39m\"\u001b[39m\u001b[39mHF google storage unreachable. Downloading and preparing it from source\u001b[39m\u001b[39m\"\u001b[39m)\n\u001b[1;32m    594\u001b[0m \u001b[39mif\u001b[39;00m \u001b[39mnot\u001b[39;00m downloaded_from_gcs:\n\u001b[0;32m--> 595\u001b[0m     \u001b[39mself\u001b[39;49m\u001b[39m.\u001b[39;49m_download_and_prepare(\n\u001b[1;32m    596\u001b[0m         dl_manager\u001b[39m=\u001b[39;49mdl_manager, verify_infos\u001b[39m=\u001b[39;49mverify_infos, \u001b[39m*\u001b[39;49m\u001b[39m*\u001b[39;49mdownload_and_prepare_kwargs\n\u001b[1;32m    597\u001b[0m     )\n\u001b[1;32m    598\u001b[0m \u001b[39m# Sync info\u001b[39;00m\n\u001b[1;32m    599\u001b[0m \u001b[39mself\u001b[39m\u001b[39m.\u001b[39minfo\u001b[39m.\u001b[39mdataset_size \u001b[39m=\u001b[39m \u001b[39msum\u001b[39m(split\u001b[39m.\u001b[39mnum_bytes \u001b[39mfor\u001b[39;00m split \u001b[39min\u001b[39;00m \u001b[39mself\u001b[39m\u001b[39m.\u001b[39minfo\u001b[39m.\u001b[39msplits\u001b[39m.\u001b[39mvalues())\n",
      "File \u001b[0;32m~/miniconda3/envs/tevatron/lib/python3.9/site-packages/datasets/builder.py:661\u001b[0m, in \u001b[0;36mDatasetBuilder._download_and_prepare\u001b[0;34m(self, dl_manager, verify_infos, **prepare_split_kwargs)\u001b[0m\n\u001b[1;32m    659\u001b[0m split_dict \u001b[39m=\u001b[39m SplitDict(dataset_name\u001b[39m=\u001b[39m\u001b[39mself\u001b[39m\u001b[39m.\u001b[39mname)\n\u001b[1;32m    660\u001b[0m split_generators_kwargs \u001b[39m=\u001b[39m \u001b[39mself\u001b[39m\u001b[39m.\u001b[39m_make_split_generators_kwargs(prepare_split_kwargs)\n\u001b[0;32m--> 661\u001b[0m split_generators \u001b[39m=\u001b[39m \u001b[39mself\u001b[39;49m\u001b[39m.\u001b[39;49m_split_generators(dl_manager, \u001b[39m*\u001b[39;49m\u001b[39m*\u001b[39;49msplit_generators_kwargs)\n\u001b[1;32m    663\u001b[0m \u001b[39m# Checksums verification\u001b[39;00m\n\u001b[1;32m    664\u001b[0m \u001b[39mif\u001b[39;00m verify_infos:\n",
      "File \u001b[0;32m~/.cache/huggingface/modules/datasets_modules/datasets/Tevatron--wikipedia-nq-corpus/6fdad22e90fbe1f0fa3379cb8364b37dedc8ab374971aef1e4c4169200bb172e/wikipedia-nq-corpus.py:74\u001b[0m, in \u001b[0;36mWikipediaNqCorpus._split_generators\u001b[0;34m(self, dl_manager)\u001b[0m\n\u001b[1;32m     73\u001b[0m \u001b[39mdef\u001b[39;00m \u001b[39m_split_generators\u001b[39m(\u001b[39mself\u001b[39m, dl_manager):\n\u001b[0;32m---> 74\u001b[0m     downloaded_files \u001b[39m=\u001b[39m dl_manager\u001b[39m.\u001b[39;49mdownload_and_extract(_DATASET_URLS)\n\u001b[1;32m     75\u001b[0m     splits \u001b[39m=\u001b[39m [\n\u001b[1;32m     76\u001b[0m         datasets\u001b[39m.\u001b[39mSplitGenerator(\n\u001b[1;32m     77\u001b[0m             name\u001b[39m=\u001b[39m\u001b[39m\"\u001b[39m\u001b[39mtrain\u001b[39m\u001b[39m\"\u001b[39m,\n\u001b[0;32m   (...)\u001b[0m\n\u001b[1;32m     81\u001b[0m         ),\n\u001b[1;32m     82\u001b[0m     ]\n\u001b[1;32m     83\u001b[0m     \u001b[39mreturn\u001b[39;00m splits\n",
      "File \u001b[0;32m~/miniconda3/envs/tevatron/lib/python3.9/site-packages/datasets/utils/download_manager.py:308\u001b[0m, in \u001b[0;36mDownloadManager.download_and_extract\u001b[0;34m(self, url_or_urls)\u001b[0m\n\u001b[1;32m    292\u001b[0m \u001b[39mdef\u001b[39;00m \u001b[39mdownload_and_extract\u001b[39m(\u001b[39mself\u001b[39m, url_or_urls):\n\u001b[1;32m    293\u001b[0m \u001b[39m    \u001b[39m\u001b[39m\"\"\"Download and extract given url_or_urls.\u001b[39;00m\n\u001b[1;32m    294\u001b[0m \n\u001b[1;32m    295\u001b[0m \u001b[39m    Is roughly equivalent to:\u001b[39;00m\n\u001b[0;32m   (...)\u001b[0m\n\u001b[1;32m    306\u001b[0m \u001b[39m        extracted_path(s): `str`, extracted paths of given URL(s).\u001b[39;00m\n\u001b[1;32m    307\u001b[0m \u001b[39m    \"\"\"\u001b[39;00m\n\u001b[0;32m--> 308\u001b[0m     \u001b[39mreturn\u001b[39;00m \u001b[39mself\u001b[39m\u001b[39m.\u001b[39mextract(\u001b[39mself\u001b[39;49m\u001b[39m.\u001b[39;49mdownload(url_or_urls))\n",
      "File \u001b[0;32m~/miniconda3/envs/tevatron/lib/python3.9/site-packages/datasets/utils/download_manager.py:196\u001b[0m, in \u001b[0;36mDownloadManager.download\u001b[0;34m(self, url_or_urls)\u001b[0m\n\u001b[1;32m    193\u001b[0m download_func \u001b[39m=\u001b[39m partial(\u001b[39mself\u001b[39m\u001b[39m.\u001b[39m_download, download_config\u001b[39m=\u001b[39mdownload_config)\n\u001b[1;32m    195\u001b[0m start_time \u001b[39m=\u001b[39m datetime\u001b[39m.\u001b[39mnow()\n\u001b[0;32m--> 196\u001b[0m downloaded_path_or_paths \u001b[39m=\u001b[39m map_nested(\n\u001b[1;32m    197\u001b[0m     download_func, url_or_urls, map_tuple\u001b[39m=\u001b[39;49m\u001b[39mTrue\u001b[39;49;00m, num_proc\u001b[39m=\u001b[39;49mdownload_config\u001b[39m.\u001b[39;49mnum_proc, disable_tqdm\u001b[39m=\u001b[39;49m\u001b[39mFalse\u001b[39;49;00m\n\u001b[1;32m    198\u001b[0m )\n\u001b[1;32m    199\u001b[0m duration \u001b[39m=\u001b[39m datetime\u001b[39m.\u001b[39mnow() \u001b[39m-\u001b[39m start_time\n\u001b[1;32m    200\u001b[0m logger\u001b[39m.\u001b[39minfo(\u001b[39mf\u001b[39m\u001b[39m\"\u001b[39m\u001b[39mDownloading took \u001b[39m\u001b[39m{\u001b[39;00mduration\u001b[39m.\u001b[39mtotal_seconds()\u001b[39m \u001b[39m\u001b[39m/\u001b[39m\u001b[39m/\u001b[39m\u001b[39m \u001b[39m\u001b[39m60\u001b[39m\u001b[39m}\u001b[39;00m\u001b[39m min\u001b[39m\u001b[39m\"\u001b[39m)\n",
      "File \u001b[0;32m~/miniconda3/envs/tevatron/lib/python3.9/site-packages/datasets/utils/py_utils.py:261\u001b[0m, in \u001b[0;36mmap_nested\u001b[0;34m(function, data_struct, dict_only, map_list, map_tuple, map_numpy, num_proc, types, disable_tqdm)\u001b[0m\n\u001b[1;32m    259\u001b[0m     num_proc \u001b[39m=\u001b[39m \u001b[39m1\u001b[39m\n\u001b[1;32m    260\u001b[0m \u001b[39mif\u001b[39;00m num_proc \u001b[39m<\u001b[39m\u001b[39m=\u001b[39m \u001b[39m1\u001b[39m \u001b[39mor\u001b[39;00m \u001b[39mlen\u001b[39m(iterable) \u001b[39m<\u001b[39m\u001b[39m=\u001b[39m num_proc:\n\u001b[0;32m--> 261\u001b[0m     mapped \u001b[39m=\u001b[39m [\n\u001b[1;32m    262\u001b[0m         _single_map_nested((function, obj, types, \u001b[39mNone\u001b[39;00m, \u001b[39mTrue\u001b[39;00m))\n\u001b[1;32m    263\u001b[0m         \u001b[39mfor\u001b[39;00m obj \u001b[39min\u001b[39;00m utils\u001b[39m.\u001b[39mtqdm(iterable, disable\u001b[39m=\u001b[39mdisable_tqdm)\n\u001b[1;32m    264\u001b[0m     ]\n\u001b[1;32m    265\u001b[0m \u001b[39melse\u001b[39;00m:\n\u001b[1;32m    266\u001b[0m     split_kwds \u001b[39m=\u001b[39m []  \u001b[39m# We organize the splits ourselve (contiguous splits)\u001b[39;00m\n",
      "File \u001b[0;32m~/miniconda3/envs/tevatron/lib/python3.9/site-packages/datasets/utils/py_utils.py:262\u001b[0m, in \u001b[0;36m<listcomp>\u001b[0;34m(.0)\u001b[0m\n\u001b[1;32m    259\u001b[0m     num_proc \u001b[39m=\u001b[39m \u001b[39m1\u001b[39m\n\u001b[1;32m    260\u001b[0m \u001b[39mif\u001b[39;00m num_proc \u001b[39m<\u001b[39m\u001b[39m=\u001b[39m \u001b[39m1\u001b[39m \u001b[39mor\u001b[39;00m \u001b[39mlen\u001b[39m(iterable) \u001b[39m<\u001b[39m\u001b[39m=\u001b[39m num_proc:\n\u001b[1;32m    261\u001b[0m     mapped \u001b[39m=\u001b[39m [\n\u001b[0;32m--> 262\u001b[0m         _single_map_nested((function, obj, types, \u001b[39mNone\u001b[39;49;00m, \u001b[39mTrue\u001b[39;49;00m))\n\u001b[1;32m    263\u001b[0m         \u001b[39mfor\u001b[39;00m obj \u001b[39min\u001b[39;00m utils\u001b[39m.\u001b[39mtqdm(iterable, disable\u001b[39m=\u001b[39mdisable_tqdm)\n\u001b[1;32m    264\u001b[0m     ]\n\u001b[1;32m    265\u001b[0m \u001b[39melse\u001b[39;00m:\n\u001b[1;32m    266\u001b[0m     split_kwds \u001b[39m=\u001b[39m []  \u001b[39m# We organize the splits ourselve (contiguous splits)\u001b[39;00m\n",
      "File \u001b[0;32m~/miniconda3/envs/tevatron/lib/python3.9/site-packages/datasets/utils/py_utils.py:197\u001b[0m, in \u001b[0;36m_single_map_nested\u001b[0;34m(args)\u001b[0m\n\u001b[1;32m    195\u001b[0m \u001b[39m# Singleton first to spare some computation\u001b[39;00m\n\u001b[1;32m    196\u001b[0m \u001b[39mif\u001b[39;00m \u001b[39mnot\u001b[39;00m \u001b[39misinstance\u001b[39m(data_struct, \u001b[39mdict\u001b[39m) \u001b[39mand\u001b[39;00m \u001b[39mnot\u001b[39;00m \u001b[39misinstance\u001b[39m(data_struct, types):\n\u001b[0;32m--> 197\u001b[0m     \u001b[39mreturn\u001b[39;00m function(data_struct)\n\u001b[1;32m    199\u001b[0m \u001b[39m# Reduce logging to keep things readable in multiprocessing with tqdm\u001b[39;00m\n\u001b[1;32m    200\u001b[0m \u001b[39mif\u001b[39;00m rank \u001b[39mis\u001b[39;00m \u001b[39mnot\u001b[39;00m \u001b[39mNone\u001b[39;00m \u001b[39mand\u001b[39;00m logging\u001b[39m.\u001b[39mget_verbosity() \u001b[39m<\u001b[39m logging\u001b[39m.\u001b[39mWARNING:\n",
      "File \u001b[0;32m~/miniconda3/envs/tevatron/lib/python3.9/site-packages/datasets/utils/download_manager.py:217\u001b[0m, in \u001b[0;36mDownloadManager._download\u001b[0;34m(self, url_or_filename, download_config)\u001b[0m\n\u001b[1;32m    214\u001b[0m \u001b[39mif\u001b[39;00m is_relative_path(url_or_filename):\n\u001b[1;32m    215\u001b[0m     \u001b[39m# append the relative path to the base_path\u001b[39;00m\n\u001b[1;32m    216\u001b[0m     url_or_filename \u001b[39m=\u001b[39m url_or_path_join(\u001b[39mself\u001b[39m\u001b[39m.\u001b[39m_base_path, url_or_filename)\n\u001b[0;32m--> 217\u001b[0m \u001b[39mreturn\u001b[39;00m cached_path(url_or_filename, download_config\u001b[39m=\u001b[39;49mdownload_config)\n",
      "File \u001b[0;32m~/miniconda3/envs/tevatron/lib/python3.9/site-packages/datasets/utils/file_utils.py:298\u001b[0m, in \u001b[0;36mcached_path\u001b[0;34m(url_or_filename, download_config, **download_kwargs)\u001b[0m\n\u001b[1;32m    294\u001b[0m     url_or_filename \u001b[39m=\u001b[39m \u001b[39mstr\u001b[39m(url_or_filename)\n\u001b[1;32m    296\u001b[0m \u001b[39mif\u001b[39;00m is_remote_url(url_or_filename):\n\u001b[1;32m    297\u001b[0m     \u001b[39m# URL, so get it from the cache (downloading if necessary)\u001b[39;00m\n\u001b[0;32m--> 298\u001b[0m     output_path \u001b[39m=\u001b[39m get_from_cache(\n\u001b[1;32m    299\u001b[0m         url_or_filename,\n\u001b[1;32m    300\u001b[0m         cache_dir\u001b[39m=\u001b[39;49mcache_dir,\n\u001b[1;32m    301\u001b[0m         force_download\u001b[39m=\u001b[39;49mdownload_config\u001b[39m.\u001b[39;49mforce_download,\n\u001b[1;32m    302\u001b[0m         proxies\u001b[39m=\u001b[39;49mdownload_config\u001b[39m.\u001b[39;49mproxies,\n\u001b[1;32m    303\u001b[0m         resume_download\u001b[39m=\u001b[39;49mdownload_config\u001b[39m.\u001b[39;49mresume_download,\n\u001b[1;32m    304\u001b[0m         user_agent\u001b[39m=\u001b[39;49mdownload_config\u001b[39m.\u001b[39;49muser_agent,\n\u001b[1;32m    305\u001b[0m         local_files_only\u001b[39m=\u001b[39;49mdownload_config\u001b[39m.\u001b[39;49mlocal_files_only,\n\u001b[1;32m    306\u001b[0m         use_etag\u001b[39m=\u001b[39;49mdownload_config\u001b[39m.\u001b[39;49muse_etag,\n\u001b[1;32m    307\u001b[0m         max_retries\u001b[39m=\u001b[39;49mdownload_config\u001b[39m.\u001b[39;49mmax_retries,\n\u001b[1;32m    308\u001b[0m         use_auth_token\u001b[39m=\u001b[39;49mdownload_config\u001b[39m.\u001b[39;49muse_auth_token,\n\u001b[1;32m    309\u001b[0m         ignore_url_params\u001b[39m=\u001b[39;49mdownload_config\u001b[39m.\u001b[39;49mignore_url_params,\n\u001b[1;32m    310\u001b[0m     )\n\u001b[1;32m    311\u001b[0m \u001b[39melif\u001b[39;00m os\u001b[39m.\u001b[39mpath\u001b[39m.\u001b[39mexists(url_or_filename):\n\u001b[1;32m    312\u001b[0m     \u001b[39m# File, and it exists.\u001b[39;00m\n\u001b[1;32m    313\u001b[0m     output_path \u001b[39m=\u001b[39m url_or_filename\n",
      "File \u001b[0;32m~/miniconda3/envs/tevatron/lib/python3.9/site-packages/datasets/utils/file_utils.py:615\u001b[0m, in \u001b[0;36mget_from_cache\u001b[0;34m(url, cache_dir, force_download, proxies, etag_timeout, resume_download, user_agent, local_files_only, use_etag, max_retries, use_auth_token, ignore_url_params)\u001b[0m\n\u001b[1;32m    613\u001b[0m _raise_if_offline_mode_is_enabled(\u001b[39mf\u001b[39m\u001b[39m\"\u001b[39m\u001b[39mTried to reach \u001b[39m\u001b[39m{\u001b[39;00murl\u001b[39m}\u001b[39;00m\u001b[39m\"\u001b[39m)\n\u001b[1;32m    614\u001b[0m \u001b[39mif\u001b[39;00m head_error \u001b[39mis\u001b[39;00m \u001b[39mnot\u001b[39;00m \u001b[39mNone\u001b[39;00m:\n\u001b[0;32m--> 615\u001b[0m     \u001b[39mraise\u001b[39;00m \u001b[39mConnectionError\u001b[39;00m(\u001b[39mf\u001b[39m\u001b[39m\"\u001b[39m\u001b[39mCouldn\u001b[39m\u001b[39m'\u001b[39m\u001b[39mt reach \u001b[39m\u001b[39m{\u001b[39;00murl\u001b[39m}\u001b[39;00m\u001b[39m (\u001b[39m\u001b[39m{\u001b[39;00m\u001b[39mrepr\u001b[39m(head_error)\u001b[39m}\u001b[39;00m\u001b[39m)\u001b[39m\u001b[39m\"\u001b[39m)\n\u001b[1;32m    616\u001b[0m \u001b[39melif\u001b[39;00m response \u001b[39mis\u001b[39;00m \u001b[39mnot\u001b[39;00m \u001b[39mNone\u001b[39;00m:\n\u001b[1;32m    617\u001b[0m     \u001b[39mraise\u001b[39;00m \u001b[39mConnectionError\u001b[39;00m(\u001b[39mf\u001b[39m\u001b[39m\"\u001b[39m\u001b[39mCouldn\u001b[39m\u001b[39m'\u001b[39m\u001b[39mt reach \u001b[39m\u001b[39m{\u001b[39;00murl\u001b[39m}\u001b[39;00m\u001b[39m (error \u001b[39m\u001b[39m{\u001b[39;00mresponse\u001b[39m.\u001b[39mstatus_code\u001b[39m}\u001b[39;00m\u001b[39m)\u001b[39m\u001b[39m\"\u001b[39m)\n",
      "\u001b[0;31mConnectionError\u001b[0m: Couldn't reach https://huggingface.co/datasets/Tevatron/wikipedia-nq-corpus/resolve/main/corpus.jsonl.gz (ConnectTimeout(MaxRetryError(\"HTTPSConnectionPool(host='huggingface.co', port=443): Max retries exceeded with url: /datasets/Tevatron/wikipedia-nq-corpus/resolve/main/corpus.jsonl.gz (Caused by ConnectTimeoutError(<urllib3.connection.HTTPSConnection object at 0x7f2e7c7fad30>, 'Connection to 10.130.28.94 timed out. (connect timeout=10)'))\")))"
     ]
    }
   ],
   "source": [
    "from datasets import load_dataset\n",
    "data  = load_dataset(\"Tevatron/wikipedia-nq-corpus\")['train']"
   ]
  },
  {
   "cell_type": "code",
   "execution_count": null,
   "metadata": {},
   "outputs": [
    {
     "data": {
      "text/plain": [
       "{'query_id': '10',\n",
       " 'query': 'which apostle had a thorn in his side',\n",
       " 'answers': ['Paul'],\n",
       " 'positive_passages': [{'docid': '776299',\n",
       "   'text': 'based on the description in Numbers 33:55. As an example usage, the \"Oxford English Dictionary\" cites E. M. Forster\\'s 1924 novel \"A Passage to India,\" in which Nawab Bahadur says, \"I can be a thorn in Mr. Turton\\'s flesh, and if he asks me I accept the invitation.\" Thorn in the flesh Thorn in the flesh is a phrase of New Testament origin used to describe a chronic infirmity, annoyance, or trouble in one\\'s life, drawn from Paul the Apostle\\'s use of the phrase in his Second Epistle to the Corinthians 12:7–9: Other biblical passages where \"thorn\" is used as',\n",
       "   'title': 'Thorn in the flesh'},\n",
       "  {'docid': '17554713',\n",
       "   'text': 'into speculative enterprises for scholars as well as lay ministers. Here he discusses \"the thorn in the flesh\" and \"caught up in the third heaven.\" The Apostle Paul had experience and an assured spirit yet he had this thorn in the side and the order not to discuss being caught up in the third heaven. This unsettled Paul, since he wanted to know all things, and had conflict in his soul. Kierkegaard writes elegantly about Paul\\'s search for peace. Those who interpret the Bible can do harm to the single individual who is reading the interpretation because of the way',\n",
       "   'title': 'Four Upbuilding Discourses, 1844'},\n",
       "  {'docid': '4528082',\n",
       "   'text': 'cross upon which Jesus was crucified was not the traditional T-shaped cross, but rather a stake or the trunk of a tree. Furthermore, Jesus did not carry his cross; rather, after leaving the judgment hall, the soldiers immediately compelled Simon of Cyrene to bear the cross all the way to Calvary per the three Gospel accounts in , and . The one account in which states \"And he bearing his cross...\", Wierwille believed refers to Jesus\\' spiritual \"bearing of sin\". The \"thorn in the flesh\" in is individuals sent by Satan to disrupt the apostle Paul\\'s ministry, not an illness',\n",
       "   'title': 'The Way International'},\n",
       "  {'docid': '776298',\n",
       "   'text': 'thorn has been seen as a physical impediment that made Paul the object of ridicule, without necessarily making him physically weak. Peter Marshall suggests a \"social debilitating disease or disfigurement\" that would undermine his visionary claims. Others propose a speech impediment, which might explain the Corinthian accusation that he was forceful in writing but unimpressive in person (2 Cor 10:9-11). Other interpretations include: The phrase \"thorn in the flesh\" continues to be used as a metaphor for \"a source of continual annoyance or trouble.\" It is synonymous with the phrase \"thorn in the side,\" which is also of biblical origin,',\n",
       "   'title': 'Thorn in the flesh'},\n",
       "  {'docid': '18500141',\n",
       "   'text': 'The Thorn in Mrs. Rose\\'s Side The Thorn in Mrs. Rose\\'s Side is the debut album by Biff Rose. It was released in 1968 on Bill Cosby\\'s music label Tetragrammaton Records. \"Fill Your Heart\" was written together with American composer, singer-songwriter, and actor Paul Williams. The two met while working together on a television comedy show. Tiny Tim released \"Fill Your Heart\" on his album, \"God Bless Tiny Tim\", six months before Biff Rose\\'s own version. It was also released as the B-side of Tiny Tim\\'s 1968 hit, \"Tiptoe Through the Tulips\". David Bowie took a liking to “Fill Your',\n",
       "   'title': \"The Thorn in Mrs. Rose's Side\"},\n",
       "  {'docid': '11206518',\n",
       "   'text': 'that God shall not be coerced (Deuteronomy 6:16 - \"You shall not put the Lord your God to the test\"), some prayers for healing have been purposely rejected by God before (2 Corinthians 12:7-9 - Apostle Paul\\'s thorn in the flesh), or specific conditions would have to be met before prayers can be heard (having guidance by the Holy Spirit). In Christianity, there is an emphasis for the need for guidance from the Holy Spirit as to what needs to be prayed for and have taught that \"God can not be coerced.\" Philosophically, there is controversy on this topic which',\n",
       "   'title': 'Efficacy of prayer'},\n",
       "  {'docid': '17853437',\n",
       "   'text': 'J. and G. Harris, merchants\". The partnership was dissolved some years later, after which George Harris then embarked in business as a merchant on his own account under the name \"Messrs. George Harris and Co\", a business he continued to operate until his death. On 13 October 1860, he married Jane Thorn, the daughter of George Thorn (senior) of the Normanby pastoral station and a Member of the Queensland Legislative Assembly, at St Paul\\'s Church in Ipswich, Queensland. Jane\\'s brother George Thorn would later also enter the Queensland Legislative Assembly and become Queensland Premier. The couple had the following children:',\n",
       "   'title': 'George Harris (Queensland politician)'},\n",
       "  {'docid': '15833665',\n",
       "   'text': 'had one son and one daughter. His wife died in 1999. In 1989 he published an autobiography, \"The Road to Winchester\". Now in his nineties, he is a member of the Garrick Club and resides in Winchester. John Thorn (headmaster) John Leonard Thorn (born 28 April 1925) is a writer and educational consultant. He was headmaster of Repton School from 1961 to 1968 and then of Winchester College until 1985. He was Chairman of the Headmasters\\' Conference for 1981. The son of Stanley and Winifred Thorn, Thorn was educated at St Paul\\'s School, London, and at Corpus Christi College, Cambridge.',\n",
       "   'title': 'John Thorn (headmaster)'},\n",
       "  {'docid': '847008',\n",
       "   'text': 'later had a house there in which he gave hospitality to Paul the Apostle. It was there that Peter the Apostle came and baptized Cornelius the Centurion and his household, the first time Christian baptism was conferred on Gentiles. When newly converted Paul the Apostle was in danger in Jerusalem, the Christians there accompanied him to Caesarea and sent him off to his native Tarsus. He visited Caesarea between his second and third missionary journeys, and later, as mentioned, stayed several days there with Philip the Deacon. Later still, he was a prisoner there for two years before being sent',\n",
       "   'title': 'Caesarea Maritima'}],\n",
       " 'negative_passages': [{'docid': '8162663',\n",
       "   'text': 'arbitrator and called in Muhammad, whose preaching had made him famous beyond his home town of Mecca. The arrival of a man who claimed to speak in the name of God eclipsed Ibn Ubayy\\'s influence. That provoked his jealousy, which he was careful to conceal, but was mitigated by his moderation and peacefulness. Ibn Ubayy nonetheless remained a well-respected man. According to Ibn Ishaq, Ibn Ubayy was \"a man of great authority in Medina before the advent of the apostle\" and \"remained a continuing thorn in the flesh of his success\". After the entry of Muhammad in Medina, many of',\n",
       "   'title': 'Abd-Allah ibn Ubayy'},\n",
       "  {'docid': '9065378',\n",
       "   'text': 'The Boy with the Thorn in His Side (song) \"The Boy with the Thorn in His Side\" is a song by the English rock band the Smiths. It was released as a single in September 1985, reaching No. 23 in the UK Singles Chart. A slightly remixed version appeared on their third album \"The Queen Is Dead\" in June 1986. This was the first single by the Smiths to be accompanied by a promotional music video, something the band had previously resisted. They also performed the song on an episode of \"Top of the Pops\". The main difference between the',\n",
       "   'title': 'The Boy with the Thorn in His Side (song)'},\n",
       "  {'docid': '8274684',\n",
       "   'text': 'Thorn in My Side \"Thorn in My Side\" is a 1986 song recorded by British pop music duo Eurythmics. It was released as the second single from the duo\\'s \"Revenge\" album. Written by band members Annie Lennox and David A. Stewart, the song is a cast-off to an unfaithful lover. \"Thorn in My Side\" was produced by Stewart. Although the first single from \"Revenge\", \"When Tomorrow Comes,\" had barely reached the UK Top 30, \"Thorn in My Side\" became Eurythmics\\' ninth Top 10 single, reaching number five in the British charts. To date, it is their last appearance in the',\n",
       "   'title': 'Thorn in My Side'},\n",
       "  {'docid': '8751873',\n",
       "   'text': 'The Boy with a Thorn in His Side The Boy with a Thorn in His Side is a 2005 comedy film, produced and directed by Mark Jeavonsa as his feature film debut, and starring Alec Sedgley as Billy Heinlickburger. Its title is almost the same as a song by The Smiths. \"Boy With A Thorn\" was shot in Birmingham and Wolverhampton in the West Midlands, England over a period of 17 days, because that was the length of time director Mark Jeavonsa was allowed to use the equipment. The director relates that he devoted most of 2004 in preparing to',\n",
       "   'title': 'The Boy with a Thorn in His Side'},\n",
       "  {'docid': '615422',\n",
       "   'text': \"Second Peace of Thorn (1466) The Peace of Thorn of 1466 (; ) was a peace treaty signed in the Hanseatic city of Thorn (Toruń) on 19 October 1466 between the Polish king Casimir IV Jagiellon on one side, and the Teutonic Knights on the other. The treaty concluded the Thirteen Years' War which had begun in February 1454 with the revolt of the Prussian Confederation, led by the cities of Danzig (Gdańsk), Elbing (Elbląg), Kulm (Chełmno) and Thorn, and the Prussian gentry against the rule of the Teutonic Knights in the Monastic State. Both sides agreed to seek confirmation\",\n",
       "   'title': 'Second Peace of Thorn (1466)'},\n",
       "  {'docid': '11075764',\n",
       "   'text': 'group in 2004, and the song won the USA Songwriting Competition in 2006. The Waifs\\' fifth studio album, \"Sun, Dirt, Water\" (September 2007), provided a title single, which was written by Thorn. During 2014 Thorn and Donna undertook a side project, Stray Sisters, with Ben Franz on pedal steel and lap steel guitars (also an auxiliary bass guitarist of the Waifs). Thorn recalled \"That was a real different experience for me because usually I play a minimum amount of guitar in the Waifs but when I was in the Stray Sisters I had to play more rhythm, supporting rhythm parts',\n",
       "   'title': 'Vikki Thorn'},\n",
       "  {'docid': '18500142',\n",
       "   'text': 'Heart”. It was in his live sets by early 1970 and it led off the second side of his 1971 album, \"Hunky Dory\". Bowie also covered \"Buzz the Fuzz\" in his live set in 1970-71. He also covered the title track of Rose\\'s 1969 album, \"Children of Light\", during live concerts. All songs written by Biff Rose, except where noted. Arranged By: Arthur G. Wright (tracks: 1 to 3, 7, to 9), Biff Rose (track: 4), Kirby Johnson (tracks: 5, 6, 11), Nick Woods (tracks: 10) The Thorn in Mrs. Rose\\'s Side The Thorn in Mrs. Rose\\'s Side is the',\n",
       "   'title': \"The Thorn in Mrs. Rose's Side\"},\n",
       "  {'docid': '7259375',\n",
       "   'text': \"up the assistant manager's position at Coventry City after the Midlands side had removed their previous assistant manager Steve Harrison following the club's relegation from the Championship. His move to Coventry City saw him return to the club where he had made over 300 first-team appearances for as well as reuniting him with his former Crystal Palace teammate Andy Thorn, who had been manager for Coventry City for over a year at that point. After a winless start to the 2012-13 League One season, Thorn was sacked as manager of Coventry and Shaw was appointed as the caretaker manager. His\",\n",
       "   'title': 'Richard Shaw (footballer)'},\n",
       "  {'docid': '14770738',\n",
       "   'text': 'Ted Thorn Edward Joseph \"Ted\" Thorn (born c. 1896) was an Australian rugby union player, a state and national representative flanker who made 36 appearances for the Waratahs. He played in fifteen Test matches and was captaining the national side on thirteen occasions (six Test matches) between 1924 and 1926. Thorn, a flanker, was born in Sydney, New South Wales and claimed a total of fifteen international rugby caps for Australia. His brother Joe, though Ted\\'s junior by three years, represented the Waratahs first in 1921. Ted made his state representative debut in 1922, appearing three times for the New',\n",
       "   'title': 'Ted Thorn'},\n",
       "  {'docid': '14770741',\n",
       "   'text': 'stand down from the Test, passing the captaincy to Tom Lawton. Ted Thorn Edward Joseph \"Ted\" Thorn (born c. 1896) was an Australian rugby union player, a state and national representative flanker who made 36 appearances for the Waratahs. He played in fifteen Test matches and was captaining the national side on thirteen occasions (six Test matches) between 1924 and 1926. Thorn, a flanker, was born in Sydney, New South Wales and claimed a total of fifteen international rugby caps for Australia. His brother Joe, though Ted\\'s junior by three years, represented the Waratahs first in 1921. Ted made his',\n",
       "   'title': 'Ted Thorn'},\n",
       "  {'docid': '18982409',\n",
       "   'text': \"Joan Moriarty, daughter of John Francis Moriarty, Lord Justice of the Irish Court of Appeal. His half-brother on his father's side was the life peer Simon Mackay, Baron Tanlaw. Between 12 February 1941 and their divorce in 1954, Lord Inchcape was married to Aline Thorn Pease, widow of an R.A.F. officer, and daughter of Sir Richard Pease, 2nd Baronet and Jeanette Thorn Kissel. They had three children – On 3 February 1965 he married Caroline Harrison, daughter of Cholmeley Dering Cholmeley-Harrison and Barbara Mary Corisande Bellew, with whom he had three children, two by birth and one by adoption. In\",\n",
       "   'title': 'Kenneth James William Mackay, 3rd Earl of Inchcape'},\n",
       "  {'docid': '15888456',\n",
       "   'text': 'the direction of an original ONIX AUDIO founder Adam Worsfold. After leaving school the original partners, Adam Worsfold and Tony ( Anthony ) Brady had become friends while working side by side at Thorn EMI and attending Brighton technical collegeUniversity of Brighton until 1982 under a Thorn EMI apprenticeship Apprenticeship. Onix Audio then started assembly of the ONIX brand of Onix hi-fi in Brighton England in 1984, two years after a small number of unlabeled and unbranded phono (Vinyl record) amplifiers ( No brand Name printed on them or used to sell them ) had been sold to niche dealers',\n",
       "   'title': 'Onix Audio'},\n",
       "  {'docid': '5521049',\n",
       "   'text': 'Peace of Thorn (1411) The (First) Peace of Thorn was a peace treaty formally ending the Polish–Lithuanian–Teutonic War between allied Kingdom of Poland and Grand Duchy of Lithuania on one side, and the Teutonic Knights on the other. It was signed on 1 February 1411 in Thorn (Toruń), one of the southernmost cities of the Monastic State of the Teutonic Knights. In historiography, the treaty is often portrayed as a diplomatic failure of Poland–Lithuania as they failed to capitalize on the decisive defeat of the Knights in the Battle of Grunwald in June 1410. The Knights returned Dobrzyń Land which',\n",
       "   'title': 'Peace of Thorn (1411)'},\n",
       "  {'docid': '5152710',\n",
       "   'text': 'this as they were not happy that their time in a ministry was capped. The most important \"victim\" of this policy was Peter Kuhlen, the ordained successor to J.G. Bischoff. When Chief Apostle Bischoff died in 1960, his dogma about Christ\\'s return had not been fulfilled but the weeds had been removed from the church. In 2013, Chief Apostle Wilhelm Leber made a statement in which the position of the Church is reviewed and provides that the \"message\" represented a personal position of Apostle Bischoff. The various communities and congregations which evolved out of these conflicts in different countries (Australia,',\n",
       "   'title': 'Chief Apostle'},\n",
       "  {'docid': '10469322',\n",
       "   'text': 'Andy Thorn (footballer) Andrew Charles Thorn (born 12 November 1966 in Carshalton) is an English football manager and former professional footballer. He was most recently the manager of Kidderminster Harriers. As a player, he was a defender from 1984 until 1998. Whilst with Wimbledon, he was part of the side that achieved the famous victory over Liverpool in the 1988 FA Cup Final. He also played in the 1990 FA Cup Final for Crystal Palace, although this time ended up on the losing side. He also played for Newcastle United, Hearts and Tranmere Rovers. Thorn began a playing career with',\n",
       "   'title': 'Andy Thorn (footballer)'},\n",
       "  {'docid': '9997207',\n",
       "   'text': 'hawthorn tree was planted on the site and iron railings placed around it. This tree still survives (2012). The National Burns Collection holds a cross section of thorn wood from a tree which grew at the Mill of Mannoch, Coylton, Ayrshire which was said to be Robert Burns\\' \"trysting thorn\", a romantic meeting place. One polished surface of the thorn wood reads: From Burns\\' poem \"The Soldier\\'s Return\". There is a trysting tree to the memory of Robin Hood, situated in the small wood just off the left hand side of Kiveton Lane on the south exit of Todwick in',\n",
       "   'title': 'Trysting tree'},\n",
       "  {'docid': '17858919',\n",
       "   'text': 'was buried in Toowong Cemetery. John Thorn (Queensland politician) John Thorn (12 December 1847 – 30 April 1896) was a politician in Queensland, Australia. He was a Member of the Queensland Legislative Assembly. John Thorn was born on 12 December 1847 at Ipswich, Queensland, the son of George Thorn (senior), a Member of the Queensland Legislative Assembly, and his wife Jane (née Handcock). He was educated at Ipswich Grammar School. He married Frances Augusta March, on 3 February 1875 in Sydney, New South Wales. The couple had 5 sons and 2 daughters. His brother George Thorn had represented the seat',\n",
       "   'title': 'John Thorn (Queensland politician)'},\n",
       "  {'docid': '17858917',\n",
       "   'text': 'John Thorn (Queensland politician) John Thorn (12 December 1847 – 30 April 1896) was a politician in Queensland, Australia. He was a Member of the Queensland Legislative Assembly. John Thorn was born on 12 December 1847 at Ipswich, Queensland, the son of George Thorn (senior), a Member of the Queensland Legislative Assembly, and his wife Jane (née Handcock). He was educated at Ipswich Grammar School. He married Frances Augusta March, on 3 February 1875 in Sydney, New South Wales. The couple had 5 sons and 2 daughters. His brother George Thorn had represented the seat of Fassifern in the Queensland',\n",
       "   'title': 'John Thorn (Queensland politician)'},\n",
       "  {'docid': '19654581',\n",
       "   'text': '1959. Cathedral Basilica of St. James the Apostle, Tunja The Cathedral Basilica of St. James the Apostle () also called Tunja Cathedral It is the oldest Roman Catholic cathedral of Colombia, which is enshrined under the patronage of St. James the Greater (\"Santiago Apóstol\"). The building is located on the eastern side of the Plaza de Bolivar in Tunja, in the historic center of the city of Tunja (capital of the department of Boyacá) in the South American country of Colombia. The cathedral is the main church of the Archdiocese of Tunja and archbishopric, since his elevation to diocese by',\n",
       "   'title': 'Cathedral Basilica of St. James the Apostle, Tunja'},\n",
       "  {'docid': '19654579',\n",
       "   'text': 'Cathedral Basilica of St. James the Apostle, Tunja The Cathedral Basilica of St. James the Apostle () also called Tunja Cathedral It is the oldest Roman Catholic cathedral of Colombia, which is enshrined under the patronage of St. James the Greater (\"Santiago Apóstol\"). The building is located on the eastern side of the Plaza de Bolivar in Tunja, in the historic center of the city of Tunja (capital of the department of Boyacá) in the South American country of Colombia. The cathedral is the main church of the Archdiocese of Tunja and archbishopric, since his elevation to diocese by the',\n",
       "   'title': 'Cathedral Basilica of St. James the Apostle, Tunja'},\n",
       "  {'docid': '18401832',\n",
       "   'text': 'the western side of the Normanby Plains, taken up by NSW pastoralist Donald McIntyre. In 1845 the Rosebrook lease was transferred to George Thorn of Ipswich. He was the former superintendent of the government cattle station at Limestone from 1838, and one of the earliest free settlers at Moreton Bay. Whilst still a government employee, he had obtained permission to operate a small general store at Limestone, and in 1842 resigned from government service to establish Ipswich\\'s first hotel, the Queen\\'s Arms. Known as the \"father of Ipswich\", Thorn represented West Moreton in the first Queensland Legislative Assembly. His sons',\n",
       "   'title': 'Normanby Homestead'},\n",
       "  {'docid': '14332192',\n",
       "   'text': 'invaded Pomerania and laid siege to Stralsund together with Danish and Russian forces in the first combined campaign of these allies in the Great Northern War. Peter the Great had meanwhile concluded his campaigns in Swedish Livonia. Scan of the treaty at IEG (Institut für Europäische Geschichte) Mainz Treaty of Thorn (1709) The Treaty of Thorn was concluded on 9 October 1709 between Augustus the Strong of Poland-Lithuania and Peter the Great of Russia in Thorn (Toruń), during the Great Northern War. The parties revived their alliance, which Charles XII of Sweden had destroyed in the Treaty of Altranstädt (1706),',\n",
       "   'title': 'Treaty of Thorn (1709)'},\n",
       "  {'docid': '5472737',\n",
       "   'text': 'track list was: Side 1 (studio) \"Thorn In My Pride\", \"Girl With Brown Eyes\", \"Jane\", \"Rain On The Level\", Side 2 (live) \"I Want Out\", \"Broken\", \"The Haunting\", \"Happy\" and was produced by Pallas guitarist, Niall Mathewson. The song \"Rain On The Level\" is written about \"The Level\" in Brighton, which is an open green space in the middle of the town where Charlie slept when busking in England. Live At The Arches \"Live At The Arches\", was recorded in Christmas 1994 in The Arches. A limited release of 1000 which included the tracks - \"Thorn In My Pride\", \"I',\n",
       "   'title': 'The Dreaming (Scottish band)'},\n",
       "  {'docid': '19341963',\n",
       "   'text': 'of Thorn opened the door to greater congressional involvement in the selection process. In the Sundry Civil Bill, Congress stipulated that henceforth the president would select the superintendent with the consent of the U.S. Senate. Thorn had never received Senate confirmation, and support for returning to having a scientist as superintendent – considered necessary to the prestige of the Coast and Geodetic Survey – had grown over the years of his superintendency; moreover, Thorn lost presidential support for his superintendency when Cleveland left office. After Harrison took office, Thorn stayed on briefly pending the appointment and confirmation of his successor,',\n",
       "   'title': 'Frank Manly Thorn'},\n",
       "  {'docid': '8274685',\n",
       "   'text': 'UK Top 10. In the United States, the track stalled at number 68 on the \"Billboard\" Hot 100. It was a hit in Australia, charting at 12 on the Kent Music Report. The music video, directed by Chris Ashbrook and Dave Stewart, depicts the band adorned in their black and leather \"Revenge\" stage costumes, playing in a studio set bar filled with an audience that includes a gang of Hells Angels. Clem Burke, drummer from the band Blondie, appears in the video as he was recording and touring with Eurythmics that year. Thorn in My Side \"Thorn in My Side\"',\n",
       "   'title': 'Thorn in My Side'},\n",
       "  {'docid': '13641896',\n",
       "   'text': 'Richard Fehr Richard Fehr (15 July 1939 - 30 June 2013) was the seventh Chief Apostle (international church president) of the New Apostolic Church from 22 May 1988 to 15 May 2005. Richard Fehr originally worked as a typesetter and married his wife on 8 September 1960. They had one son. He was ordained Chief Apostle by his predecessor Hans Urwyler at his bedside in the hospital. Because of the severe disease which made Chief Apostle Hans Urwyler unfit for service in July 1987, he entrusted Richard Fehr with his substitution and ordained him Chief Apostle Helper on 28 August',\n",
       "   'title': 'Richard Fehr'},\n",
       "  {'docid': '11159539',\n",
       "   'text': 'his photo accidentally taken by himself on the mirror which shows the similar mark; implying he will soon die as well. Robert travels to Rome with Jennings and goes to the hospital where Damien was born; only to find out the old hospital burned down five years ago, killing many staff and destroying records. A nun helps Thorn by telling him that Father Spiletto is at a monastery in Subiaco. Thorn and Jennings find Spiletto badly burnt. A monk informs them that he does not speak or move; only his right hand moves with which he confessed that he had',\n",
       "   'title': 'Robert Thorn'},\n",
       "  {'docid': '5696162',\n",
       "   'text': 'to lie-to off Homonhon Island, on the east side of Leyte Gulf, to conduct a torpedo attack on a Japanese force expected from the eastward. The enemy, however, had already retired into the San Bernardino Strait that afternoon, and the American destroyer unit was recalled on the 26th. Ordered to Ulithi, \"Thorn\" departed Philippine waters to rejoin the U.S. Third Fleet in the Carolines, for duty with the Fast Carrier Task Force (then designated TF38). From 6 to 24 November \"Thorn\" participated in TF 38\\'s strikes against Japanese targets in the Philippines, screening and planeguarding for the fast carriers. She',\n",
       "   'title': 'USS Thorn (DD-647)'},\n",
       "  {'docid': '4428880',\n",
       "   'text': 'Manchester and Birmingham Railway track cutting through the land Jennison had leased in December 1836, restricting access to the gardens. Jennison twice tried unsuccessfully to sell Belle Vue, after which his creditors allowed him time to make a success of the gardens; by the end of the 1843 season Jennison was able to repay his debts. The railway that had been a thorn in his side eventually proved to be an asset when Longsight railway station was re-sited closer to Belle Vue in 1842, making it easier for visitors to reach the gardens. An additional of farmland at the western',\n",
       "   'title': 'Belle Vue Zoological Gardens'},\n",
       "  {'docid': '13473117',\n",
       "   'text': 'at Christ being carried by four angels in a mandorla. All that remains of the angels is the right arm, right wing, and a portion of the halo. On the north side there are only remnants of two apostles. The leftmost figure is presented in a three-quarter view from behind. His right hand is seen shielding his eyes. The second apostle is painted in a more profile view. His entire right half is missing along with his left arm. He is shown in a gray tunic and purple-brown chlamys. The south side has only one remaining apostle. His body faces',\n",
       "   'title': 'Koutsovendis'},\n",
       "  {'docid': '16014634',\n",
       "   'text': \"death he had his best friend, Thorn, promise that he would help Hal and Karina, Mikkel's wife and child. Thorn promises but loses his hand on the voyage back. Once in Skandia he becomes a drunk, however, Hal's mother Karina reminds Thorn of his promise to help Hal and employs him in her inn. 12 years after his father died, Hal Mikkelson has become a boy who builds whatever he thinks of with the help of his best friend, Stig. At the same time he works with Anders, the local shipbuilder. During this time Hal builds a ship which he\",\n",
       "   'title': 'Brotherband'},\n",
       "  {'docid': '19341965',\n",
       "   'text': 'tape.\" However, toward the end of Thorn\\'s superintendency, the \"New York Times\" evaluated his tenure, saying in a headline \"Not So Bad for Layman: Three Years’ Management of the Coast Survey; President Cleveland\\'s Appointment of Superintendent Thorn Fully Justified by Results.\" The government report \"Centennial Celebration of the United States Coast and Geodetic Survey\", published in 1916, described Thorn as \"a man of sterling integrity,\" adding, \"he had the courage to revise the report of his commission [i.e., the three-man Treasury commission investigating the Coast and Geodetic Survey which he had chaired for three weeks in July 1885 before becoming',\n",
       "   'title': 'Frank Manly Thorn'},\n",
       "  {'docid': '20046870',\n",
       "   'text': 'Tayla Thorn Tayla Thorn (born 31 May 1998) is an Australian rules footballer who played for the Adelaide Football Club in the AFL Women\\'s (AFLW). Thorn was captain of the first Indigenous Northern Territory representative side, and won a \"best and fairest\" award at her home club, St Mary’s. In September 2016, Thorn was one of only two Northern Territory players selected in the women\\'s all star exhibition match at the Whitten Oval, when she played for . That same year, she was named in the Youth Girls All-Stars Team. Thorn was drafted by with the club\\'s twelfth pick in',\n",
       "   'title': 'Tayla Thorn'},\n",
       "  {'docid': '10362280',\n",
       "   'text': 'day. Already in the middle of July he is able to launch a small offensive, which, however, meets with no success. On August 22 his forces make a determined attack on Gardez, and eventually recapture it, but are unable to retain it. The amir just made his peace with the Hazaras, on the west of Kabul, who had long been a thorn in his side, and is thus able to spare more men for the campaign against Nadir Khan, and so to neutralize his success. Early in September the Durrani tribe drives his governor and garrison out of the town',\n",
       "   'title': '1929 in Afghanistan'},\n",
       "  {'docid': '19182780',\n",
       "   'text': \"Great, one of Archbishop Hugh's supporters and a thorn in the side of Louis IV. Robert was a careful administrator of his diocese. He pushed forward with the reformation of monasteries, many of which were still at that time under lay ownership and some of which, like Saint-Maximin in Trier and Mettlach in the Saar, had suffered Viking and Hungarian raids. He reorganized the ecclesiastical structures of his diocese down to the level of the parish, especially in the northern Eifel region. He rebuilt the southern church of the cathedral district, today the Liebfrauenkirche, which he consecrated on 9 September\",\n",
       "   'title': 'Robert (archbishop of Trier)'},\n",
       "  {'docid': '19883904',\n",
       "   'text': 'St. Peter the Apostle Cathedral, Buga The St. Peter the Apostle Cathedral () Also Buga Cathedral Is a Catholic cathedral located in Guadalajara de Buga (Valle del Cauca) in the South American country of Colombia, built under the invocation of the Apostle Simon Peter, which is the seat of the bishop of Buga, being the largest church of the homonymous diocese. It is located in a corner, at the junction of 6th Street (Main Church Street or 7 August) with Carrera 15 (Bolivar Street), in Zone 1 (Foundational Area) of the Historical Center of Buga, in The south side of',\n",
       "   'title': 'St. Peter the Apostle Cathedral, Buga'},\n",
       "  {'docid': '9065382',\n",
       "   'text': 'etching on the Sandie Shaw version of \"Hand in Glove\". Jack Rabid of Allmusic called this single \"great ... just another feather in a jeweled cap\". The song was covered by Scottish band Bis on the tribute album \"The Smiths Is Dead\". Reviewer Stephen Thomas Erlewine harshly criticised the cover, writing: \"Bis utterly disembowel \\'The Boy with the Thorn in His Side\\' with a single-minded stupidity that is just bewildering.\" The song has also been covered by Belle & Sebastian, Scott Matthews, Jeff Buckley, Emilie Autumn, Xiu Xiu, Dinosaur Jr\\'s J Mascis and The Cat Empire in live performances. The',\n",
       "   'title': 'The Boy with the Thorn in His Side (song)'},\n",
       "  {'docid': '8585822',\n",
       "   'text': 'may result in more negative press for the department than what the upper command wishes for. Gee\\'s leadership style and earned respect from his detectives mirrored the real-life dynamic with Lt. Gary D\\'Addario, who had a recurring role on the show as SWAT team commander Lt. Jasper. Much of Gee\\'s time is spent fighting against \"the bosses,\" which is a strong factor in his initial failures at advancement. Giardello is considered a renegade commander and a thorn in the bosses\\' side due to his tendency to alert the media about investigations and allow his officers to investigate in a way',\n",
       "   'title': 'Al Giardello'},\n",
       "  {'docid': '7508587',\n",
       "   'text': \"but it was as a satirical nationalist journalist that he became famous in his day, a thorn in the side of both the Khedive and the British interlopers. In 1870, the Khedive, Ismail the Magnificent, agreed to financially support Sanu's theatre company, which was performed plays in an a very colloquial Egyptian Arabic on nationalist themes, but the two had a falling out in 1876 when Egypt's bankruptcy led Ismail to withdraw his support. Sanu mercilessly mocked both Ismail the Magnificent, and then Egypt's British rulers in his journalism and especially his cartoons as bumbling buffoons. Sanu was the first\",\n",
       "   'title': 'Yaqub Sanu'},\n",
       "  {'docid': '5152186',\n",
       "   'text': \"the English Apostles and as for leaving the Catholic Apostolic congregations, namely Apostles not validating the Prophet's call for an Apostle. Friction existed between the Prophet Geyer and Apostle Preuss concerning whether Prophets or Apostles had higher authority, and when Apostle Preuss died on 25 July 1878, open conflict broke out. Geyer had already called the coal dealer Johannes F.L. Gueldner as an apostle in a private meeting four months before apostle Preuss' death. Apostle Preuss had refused to recognize this calling and, on his deathbed, designated Elder Wichmann as his successor. However, he was not able to stop Geyer\",\n",
       "   'title': 'New Apostolic Church'},\n",
       "  {'docid': '12726319',\n",
       "   'text': 'the projection of tendrils and vines, appears to be uninhibited when separated from terra firma as well. Blackbriar Thorn Blackbriar Thorn is a DC Comics supervillain. Created by Len Wein and Joe Kubert, Blackbriar Thorn first appeared in \"DC Comics Presents\" #66. Blackbriar Thorn was a High Priest of the ancient Druids of Cymru. When his entire sect is massacred by attacking Roman forces, Thorn flees to the surrounding forest. Attempting to escape capture, he transforms himself into solid wood, hiding amongst the trees. Unfortunately for Thorn, the agony of his dying comrades creates a geological upheaval which buries his',\n",
       "   'title': 'Blackbriar Thorn'},\n",
       "  {'docid': '12726312',\n",
       "   'text': 'Blackbriar Thorn Blackbriar Thorn is a DC Comics supervillain. Created by Len Wein and Joe Kubert, Blackbriar Thorn first appeared in \"DC Comics Presents\" #66. Blackbriar Thorn was a High Priest of the ancient Druids of Cymru. When his entire sect is massacred by attacking Roman forces, Thorn flees to the surrounding forest. Attempting to escape capture, he transforms himself into solid wood, hiding amongst the trees. Unfortunately for Thorn, the agony of his dying comrades creates a geological upheaval which buries his newly arboreal form underground. Millennia later, Blackbriar Thorn\\'s body is unearthed by an archaeologist and subsequently displayed',\n",
       "   'title': 'Blackbriar Thorn'},\n",
       "  {'docid': '14577635',\n",
       "   'text': 'Spears and a square from the iron gates each side of the east wall – behind which there is a cross passage. It also appears again on the cast iron rainheads on the exterior of the building. St Thomas the Apostle, Hanwell St Thomas the Apostle is a Church of England church, which is situated along Boston Road in Hanwell, in the London Borough of Ealing. Designed by Sir Edward Maufe, It forms part of the Diocese of London and can hold 428 people. English Heritage has listed it as a Grade II* building. Hanwell was a small village which',\n",
       "   'title': 'St Thomas the Apostle, Hanwell'},\n",
       "  {'docid': '17076283',\n",
       "   'text': '\"Prince of the Red Light District\". She told him that if he wanted to reunite Viole with his friends, they must climb to the 30th Floor and participate in the Workshop Battle. Before the Workshop Battle, Hwa Ryun traded places with Yuto to become part of FUG\\'s team. When Viole was taken in the Thorn chamber, she guided his friends to summon him and save him from being molten. She helped her side of FUG, by using the other side of FUG\\'s plans against them, so that Viole acquired the Thorn. Unfortunately, Hwa Ryun was taken hostage by Reflejo and',\n",
       "   'title': 'Tower of God'},\n",
       "  {'docid': '12726314',\n",
       "   'text': \"and Green Lantern Alan Scott—-to successfully defeat the Anti-Monitor's Shadow Demons, which had been ravaging the Earth. Disembodied once more and said to have lingered in Gotham Park since his prior defeat, Thorn is channeled by a stage psychic at the behest of John Constantine to provide information about a pending calamity in The Green. Blackbriar Thorn next appears (again, with a human appearance) as an agent of the demon Neron in a demonic realm called The Abyss. Holding captive the soul of Mollie Scott as bait, Thorn attempts to ensnare her husband, Alan Scott, but is surprised to find\",\n",
       "   'title': 'Blackbriar Thorn'},\n",
       "  {'docid': '15342023',\n",
       "   'text': 'end they will know.\" (Sura 15: 94) According to a Muslim tradition, the five mockers suffered divine vengeance. The same Yazid told me from Urwa (or it may have been from some other traditionist) that Gabriel came to the apostle when the mockers were going round the temple. He stood up and the apostle stood at his side; and as Al-Aaswad ibn Al-Muttalib passed, Gabriel threw a green leaf in his face and he became blind. Then Al-Aaswad ibn Abdu Yaghuth passed, and he pointed at his belly, which swelled so that he died of dropsy. Next Al-Walid passed by.',\n",
       "   'title': 'Walid ibn al-Mughirah'},\n",
       "  {'docid': '14991411',\n",
       "   'text': '1993 to 1997, he represented the county in 10 Minor Counties Championship matches, the last of which came against Shropshire. Philip Thorn Philip Leslie Thorn (born 17 November 1951) is a former English cricketer. Thorn was a right-handed batsman who bowled slow left-arm orthodox. He was born at St George, Bristol. Thorn made his first-class debut for Gloucestershire against Surrey in 1974 County Championship. Thorn played 3 further first-class matches in 1974, the last of which came against Essex. In his 4 first-class matches, he scored 45 runs at a batting average of 11.25, with a high score of 25.',\n",
       "   'title': 'Philip Thorn'},\n",
       "  {'docid': '19341948',\n",
       "   'text': \"1, 1885, his first day as Chief Clerk of the Internal Revenue Bureau, Thorn became chairman of a three-man Department of the Treasury commission investigating the corruption Chenoweth believed he had uncovered in the Survey. Thorn remained with the committee through July 22. With the Survey's leadership in disgrace, Cleveland needed to find an outsider to reform its lax financial practices. He turned to Thorn, who already had met the Coast and Geodetic Survey staff during his three weeks of work on the Treasury committee investigating the organization. Cleveland made Thorn the Acting Superintendent of the Coast and Geodetic Survey\",\n",
       "   'title': 'Frank Manly Thorn'},\n",
       "  {'docid': '6747486',\n",
       "   'text': 'election by Thomas de Montmorency Murray-Prior. He had no further involvement in politics after that. On 15 January 1905, George Thorn died from heart failure at his home at Booval, Queensland. He was buried in the Anglican section of Ipswich General Cemetery. The gold mining town Thornborough was named after him. George Thorn George Henry Thorn (junior) (12 October 1838 – 15 January 1905) was a Member of the Queensland Legislative Assembly and a Premier of Queensland, Australia. George Thorn (junior) was born in Sydney, New South Wales, a son of George Thorn (senior) and his wife Jane (née Handcock).',\n",
       "   'title': 'George Thorn'},\n",
       "  {'docid': '18643009',\n",
       "   'text': 'Thorn-Stingley House The Thorn-Stingley House is a historic house at 1660 East End Road in Homer, Alaska, which was listed on the National Register of Historic Places in 2001. It is a 1-1/2 story wood frame structure, roughly rectangular in shape, with a side-gable roof and a full basement that includes a one-car garage. The house is in a local interpretation of the Bungalow style, with a pair of gable-roof dormers projecting from the front roof, and a projecting gable-roofed hood above the main entrance. The front facade is divided into three asymmetrical bays, with a grouping of three sash',\n",
       "   'title': 'Thorn-Stingley House'},\n",
       "  {'docid': '4213741',\n",
       "   'text': 'John Thorn John Thorn (born April 17, 1947) is a sports historian, author, publisher, and cultural commentator. Since March 1, 2011, he has been the Official Baseball Historian for Major League Baseball. Thorn was born in Stuttgart, Germany, where his Polish Jewish parents had come as refugees. Less than two years after Thorn was born, his family emigrated to the United States, and settled in The Bronx, New York City. “I fell in love with [baseball] cards before I loved the game, when I discovered that baseball was something that all the kids on my street corner cared about,\" Thorn',\n",
       "   'title': 'John Thorn'},\n",
       "  {'docid': '10911459',\n",
       "   'text': 'a piece of paper by his brother\\'s widow, which was given to the tombstone inscriber. The inscription in Chinese, written in emotive language, read: The court then heard that the CID started investigating the tombstone on 11 May 1983 and had seized the original piece of paper from the tombstone-maker\\'s shop in Choa Chu Kang. Chu Boon\\'s defence lawyer was J.B. Jeyaretnam who had long been a consistent thorn in the side of Singapore\\'s political establishment. Jeyaretnam established that the instigation for the CID investigation and arrest had come from \"a government department\". In mitigation, Jeyaretnam made the point that,',\n",
       "   'title': \"Tan Chay Wa's tombstone trial\"},\n",
       "  {'docid': '4757023',\n",
       "   'text': \"operations the XIII Corps took up a position on the Union left. During the assaults on Vicksburg the XIII Corps lost nearly 1,500 soldiers. McClernand had been a long time thorn in Grant's side and on June 19, Grant found an opportunity to remove him from command. His replacement was Edward O. C. Ord, a friend of Grant's who had just recovered from a wound sustained in 1862. Ord led the corps throughout the rest of the siege. After Vicksburg fell, William T. Sherman led an expedition back to Jackson, Mississippi to clear the city of Confederates which had gathered\",\n",
       "   'title': 'XIII Corps (Union Army)'},\n",
       "  {'docid': '19133977',\n",
       "   'text': 'the video gaming industry what Eastern Front 1941 done; that is making the computer to be separate medium to those traditional board games. Yet Submarine Commander added an extra flavour of being immersed in 3D which is a dramatic step in contrast to those many, many side-scrolling shoot-em up games.\" Another reviewer noted it is \"one of the most complex games produced for the VIC-20.\" After Thorn announced the TI version, TI reseller Howard Greenberg placed a large order for this and other Thorn games. However, Thorn began rapidly shuffling management, and then left the video game industry entirely. Some',\n",
       "   'title': 'Submarine Commander'},\n",
       "  {'docid': '11310596',\n",
       "   'text': \"Pomfret had tried to claim. After picking up the trail of Civet, the witch who had sealed the Inland Sea in a pebble, she encounters the orphaned young kitchen servant Thorn, who amazes her with his kindness and who she eventually saves from an assassination attempt by Civet. Thorn joins Shimmer on her quest, which eventually leads to the city of River Glen where they encounter the powerful mage known as Monkey. Monkey fails to capture Civet after she destroys the pebble and floods River Glen. Shimmer and Thorn track Civet to her lair, where after some trickery on Thorn's\",\n",
       "   'title': 'Dragon (fantasy series)'},\n",
       "  {'docid': '14620355',\n",
       "   'text': 'new \"Sainte Chapelle\" in his capital of Bourges to house it. His collection of relics included objects claimed to be the wedding ring of the Virgin Mary, a cup used at the Wedding at Cana, a piece of the Burning Bush and many others. However the provenance of the Holy Thorn, as well as its centrality to the Passion of Christ must have given it a special status. The crown from which the thorn came had been bought in 1239 by Louis IX, both a saint and King of France, from the Latin Emperor in Constantinople, Baldwin II, along with',\n",
       "   'title': 'Holy Thorn Reliquary'},\n",
       "  {'docid': '11918840',\n",
       "   'text': 'a Tupelo furniture factory and playing in local clubs he was discovered by music professional Miles Copeland (brother of The Police drummer Stewart Copeland). In 1997, while performing at a singer-songwriters night at a local pizza shop (Vanelli’s), Roger Sovine representing BMI overheard Thorn and was impressed with his singing and song writing ability. He asked Thorn if he had his permission to share his name with other record companies in Nashville. A couple weeks later, Thorn called vOz Vanelli (owner of Vanelli’s) and mentioned that several record companies were coming to Tupelo to hear him perform. Thorn asked if',\n",
       "   'title': 'Paul Thorn'},\n",
       "  {'docid': '14991408',\n",
       "   'text': 'Philip Thorn Philip Leslie Thorn (born 17 November 1951) is a former English cricketer. Thorn was a right-handed batsman who bowled slow left-arm orthodox. He was born at St George, Bristol. Thorn made his first-class debut for Gloucestershire against Surrey in 1974 County Championship. Thorn played 3 further first-class matches in 1974, the last of which came against Essex. In his 4 first-class matches, he scored 45 runs at a batting average of 11.25, with a high score of 25. With the ball he took 4 wickets at a bowling average of 56.75, with best figures of 2/53. Thorn also',\n",
       "   'title': 'Philip Thorn'},\n",
       "  {'docid': '13787461',\n",
       "   'text': 'Caribbean. Villeneuve felt however that his orders were not clear, and remained at Fort-de-France, hoping to be joined by a fleet under Honoré Ganteaume, which unbeknownst to him had been unable to break the blockade of Brest. For two weeks Villeneuve lingered in the bay, until finally being persuaded by Villaret de Joyeuse to use his forces to capture Diamond Rock, a thorn in his side for the past seventeen months. Villeneuve gave Captain Julien Cosmao of the 74-gun \"Pluton\" command of the expedition. He was to take his ship, the 74-gun , the 36-gun \"Sirène\", a corvette, schooner, eleven',\n",
       "   'title': 'Battle of Diamond Rock'},\n",
       "  {'docid': '7402006',\n",
       "   'text': 'March 1793, this sentiment boiled over into an armed insurrection in the fiercely Catholic Vendée region of western France. A rebel army titled \"Armée catholique et royale\" now proved to be a thorn in the side of the Revolutionary Government in Paris, under leaders such as François de Charette de la Contrie and Louis d\\'Elbée. The rebels were known as \"Chouans\", a title which comes from early royalist leader Jean Cottereau’s nickname Jean Chouan. He was known for his perfect imitation of an owl’s cry, a noise which had become the rallying cry of the insurgents of Vendée. The \"Armée',\n",
       "   'title': '13 Vendémiaire'},\n",
       "  {'docid': '7661891',\n",
       "   'text': \"the hay), when the farmer who had formerly lost the cart, knocks it over. Bartleby, Phoney, and Smiley climb the ladder (which accidentally knocks out the farmer) Fone and Thorn are descending, where Phoney expresses his disappointment at having lost the treasure. Hearing the words from the arguing Fone and Phoney, Thorn asks Phoney the location of the Crown of Horns, who deduces it is in the sacred burial grounds of the dragons. Thorn leaves the group to search for the Crown of Horns and Fone, refusing to leave with Phoney and determined to protect Thorn, follows her with Bartleby's\",\n",
       "   'title': 'Crown of Horns (comic)'},\n",
       "  {'docid': '4213748',\n",
       "   'text': 'Jerome Holtzman, who served from 1999 until his death in 2008. John Thorn John Thorn (born April 17, 1947) is a sports historian, author, publisher, and cultural commentator. Since March 1, 2011, he has been the Official Baseball Historian for Major League Baseball. Thorn was born in Stuttgart, Germany, where his Polish Jewish parents had come as refugees. Less than two years after Thorn was born, his family emigrated to the United States, and settled in The Bronx, New York City. “I fell in love with [baseball] cards before I loved the game, when I discovered that baseball was something',\n",
       "   'title': 'John Thorn'},\n",
       "  {'docid': '2847105',\n",
       "   'text': 'autobiography to his confrontations with Copps. In her second autobiography, \"Worth Fighting For\", Copps had Crosbie write an introduction in which he says \"I write this Introduction to her new book as a tribute to a feisty, sometimes ferocious, feminist protagonist, never shy or retiring but redoubtable political personality. She was a constant thorn in my side while she was in Opposition, but her marriage to my fellow Newfoundlander Austin Thorne has made her more serene and has calmed her sometimes volcanic and partisan excesses\". Crosbie remained in the Progressive Conservative Party until its dissolution in 2003. Despite his earlier',\n",
       "   'title': 'John Crosbie'},\n",
       "  {'docid': '2291667',\n",
       "   'text': \"lighting control systems for professional indoor lighting, including offices, schools, showrooms, hotels, wellness and healthcare facilities, the arts and industry. The division with the longest history in the group is Thorn Lighting, which was acquired from Thorn EMI in a leveraged management buy-out. Its integration in Zumtobel was completed in 2000. Thorn Lighting was founded in 1928 by Jules Thorn and Alfred Deutsch. Thorn’s products are used in buildings and their surroundings, roads, cityscapes and sports facilities in more than 100 countries. Thorn Lighting had a lamp factory in Buckie (Scotland) which opened in 1956 and continued manufacturing incandescent 'light\",\n",
       "   'title': 'Zumtobel Group'},\n",
       "  {'docid': '11654617',\n",
       "   'text': 'paid tax on the money he had been paid. He resigned the party whip and sat as an independent until the 1950 election, in which he did not stand. Lord Robens commented after his death that Walkden was \"an able Trade Union official and an able Parliamentarian and worked hard to bring about reforms in the rationing systems during the war. He was a thorn in the side of the black marketeers and his activities led to the closing of many loopholes.\" Evelyn Walkden Evelyn Walkden (Oct 1893 - 12 September 1970) was a British politician and trades unionist. The',\n",
       "   'title': 'Evelyn Walkden'},\n",
       "  {'docid': '4752559',\n",
       "   'text': 'enforcement of laws against prostitution, which would adversely affect his force. For the sake of the war effort, Stevenson appointed a different candidate. In 1950, Parr had become a thorn in the side of Governor Allan Shivers and Attorney General John Ben Shepperd. Federal officials began to investigate the machine. Some 650 indictments were brought forth against machine members, 300 of them at the state level. Parr, however, eluded indictment, and his conviction for fraud was later dismissed. Under the protection of Lyndon Johnson, Parr eluded all attempts to investigate and convict him for fraud, bribery, corruption, racketeering, and murder.',\n",
       "   'title': 'George Berham Parr'},\n",
       "  {'docid': '3409013',\n",
       "   'text': 'a Saint. His memorial is Nov. 27. Acarius Saint Acarius (died 27 November 639) was bishop of Doornik and Noyon, which today are located on either side of the Franco-Belgian border. Acarius was a pupil of Saint Columbanus around 594. While the date of his election is not known, it is assured that he was bishop in 627. He was a fervent furtherer of the apostle Saint Amand, but despite his influence could not avoid the banishment of the latter by King Dagobert I. Apparently, Acarius had great influence on the spreading of Christianity in Belgic Gaul. Soon after his',\n",
       "   'title': 'Acarius'},\n",
       "  {'docid': '7567748',\n",
       "   'text': 'time he has a scheming side. At the end of the day he\\'s both an angel and a devil, I suppose!\" Rafferty also found that his character was \"not without a sense of humour\". The actor told Joe Riley of the \"Liverpool Echo\" that the reason he stayed with the show was the \"opportunity to develop the character\". After Darcy ended his seven-year relationship with Alice Jamison (Pip Sallabank), he began a relationship with nurse Dee Bliss (Madeleine West). However, Alice \"remained a constant thorn in his side\", and after realising that Darcy had moved on, she wanted to get',\n",
       "   'title': 'Darcy Tyler'},\n",
       "  {'docid': '589821',\n",
       "   'text': 'church of Glastonbury\\';\" but here William did not explicitly link Glastonbury with Joseph of Arimathea, but instead emphasizes the possible role of Philip the Apostle: \"if Philip, the Apostle, preached to the Gauls, as Freculphus relates in the fourth chapter of his second book, it may be believed that he also planted the word on this side of the channel also.\" In 1989 A. W. Smith critically examined the accretion of legends around Joseph of Arimathea, by which the poem hymn of William Blake \"And did those feet in ancient time\" is commonly held as \"an almost secret yet passionately',\n",
       "   'title': 'Joseph of Arimathea'},\n",
       "  {'docid': '9381568',\n",
       "   'text': 'anti-segregation busing policies in the commonwealth. Brooke was a major opponent of anti-busing legislation and had successfully campaigned against the Biden Amendment to end federal funding of busing programs. Brooke\\'s support of busing policies likely cost him votes in Boston and other working-class white communities, which had rioted in preceding years over the issue. Prominent South Boston politician Louise Day Hicks decried Brooke as an \"apostle of urban neglect.\" For his part, Tsongas largely avoided the busing issue, but did make the claim that voting for Brooke on the basis of his race was \"the other side of racism.\" 1978',\n",
       "   'title': '1978 United States Senate election in Massachusetts'},\n",
       "  {'docid': '7608800',\n",
       "   'text': 'the incident, many Brown and LSU supporters were angry with the NCAA\\'s decision. They were convinced that the NCAA unfairly came down hard on LSU only because Brown had long been a thorn in its side. They were also angry that Earl received immunity, never had to repay the money, and would eventually regain the eligibility he lost when he transferred from LSU. In August 2007, Lester Earl made comments that suggest that the witch hunt theory may have been true (see \"Retirement from LSU\"). Brown announced his retirement halfway through the 1996–1997 season, which would be effective at the',\n",
       "   'title': 'Dale Brown (basketball)'},\n",
       "  {'docid': '3409012',\n",
       "   'text': 'Acarius Saint Acarius (died 27 November 639) was bishop of Doornik and Noyon, which today are located on either side of the Franco-Belgian border. Acarius was a pupil of Saint Columbanus around 594. While the date of his election is not known, it is assured that he was bishop in 627. He was a fervent furtherer of the apostle Saint Amand, but despite his influence could not avoid the banishment of the latter by King Dagobert I. Apparently, Acarius had great influence on the spreading of Christianity in Belgic Gaul. Soon after his death in 639, he was venerated as',\n",
       "   'title': 'Acarius'},\n",
       "  {'docid': '6289292',\n",
       "   'text': '1809 the area of modern Finland was the eastern third of the kingdom of Sweden. The settlement was actually an invasion of New Netherland since it was Dutch territory. The founder and first governor, Peter Minuit, had been Director-General of New Netherland from 1626 to 1633. Disgruntled after being dismissed from his post, he led a Swedish expedition to a location which he knew to be strategic as well as a thorn in the side of his former employers. Minuit died on a return trip from Stockholm in a hurricane near the Caribbean island of Saint Kitts. The colony would',\n",
       "   'title': 'Swedish overseas colonies'},\n",
       "  {'docid': '15821160',\n",
       "   'text': \"just captured his first Tripolitan vessel and upon receiving the news turned command of his captured prize over to Lieutenant Jonathan Thorn and immediately set out to avenge his brother's treacherous injury. After catching up with and pulling alongside the Tripolitan ship, Decatur was the first to board the enemy vessel with Midshipman Macdonough at his heels along with nine volunteer crew members. Decatur and his crew were outnumbered 5 to 1 but were organized and kept their form, fighting furiously side by side. Decatur had little trouble singling out the corsair captain, the man responsible for James' mortal wound,\",\n",
       "   'title': 'Stephen Decatur'},\n",
       "  {'docid': '17853667',\n",
       "   'text': 'twenty miles from Ipswich (later managed by his sons John and Charles Thorn). By steady and energetic perseverance Thorn succeeded in raising this station to a high standard, making it one of the most valuable pastoral properties in West Moreton. Here Thorn spent some of the best days of his life. Prior to the separation of Queensland in 1859, Thorn and his family (all of whom are natives of Australia) paid a visit to England, and returned to the colony in the same steamer which brought out Sir George Bowen, the first Governor of Queensland. At the inaugural colonial election',\n",
       "   'title': 'George Thorn (senior)'},\n",
       "  {'docid': '6262502',\n",
       "   'text': \"feat by Bakkies Botha, Danie Rossouw and Bryan Habana. In October 2012, it was reported that Thorn has agreed in principle to join the Highlanders Super rugby franchise for the 2013 season. Thorn would be joining the Dunedin-based franchise with incoming World Cup final teammates Ma'a Nonu and Tony Woodcock both of whom were joining from the Blues in Auckland. On 4 May 2013 against the Sharks in Dunedin Thorn played his 100th Super rugby game. In 2014 a bicep injury which required surgery ended his season and called into question whether Thorn would be able to reach his stated\",\n",
       "   'title': 'Brad Thorn'},\n",
       "  {'docid': '3406766',\n",
       "   'text': 'Philip of Side Philip of Side or Philip Sidetes (\"ca\" 380 - after 431), a historian of the early Christian church, was born at Side in Pamphylia. He wrote a Christian history of which fragments survive. For some detail he relied upon the well-known \"Historia Ecclesiae\" by Eusebius of Caesarea. Philip may be the last writer to quote Papias, and is best known for his statement that in the second book of the latter\\'s five book treatise, Papias reported that the Apostle John was \"killed by the Jews\". He studied in Alexandria under Rhodon, and was teaching in Side about',\n",
       "   'title': 'Philip of Side'},\n",
       "  {'docid': '11159537',\n",
       "   'text': \"nanny on his birthday before her death. After showing the photos to Robert, Jennings gives him additional information about Brennan. Brennan had cancer and knew he was dying. He had a birthmark on his right thigh. The birthmark describes a sequence of sixes (known as 666). Later they go to Brennan's place which is fully covered with pages of the Bible and 47 crosses. Jennings had found a diary that contained all the information Brennan had gathered by stalking Robert. The last entry said he was supposed to meet Thorn at the Bishop's Park the day he died. Jennings shows\",\n",
       "   'title': 'Robert Thorn'},\n",
       "  {'docid': '16014567',\n",
       "   'text': \"raiding trip. Before his death he had his best friend, Thorn, promise that he would help Hal. Thorn promises but loses his right hand on the voyage back. Once in Skandia he becomes a drunk, wallowing in self-pity, however, Hal's mother, Karina, reminds Thorn of his promise and employs him in her inn/eating house. Hal Mikkelson, 16, has become a boy who builds whatever he thinks of with the help of his best friends, Stig and Thorn. At the same time he works with Anders, the local shipbuilder. During this time Hal buys an incomplete ship from Anders and finishes\",\n",
       "   'title': 'The Outcasts (Brotherband)'},\n",
       "  {'docid': '20046873',\n",
       "   'text': 'the Seven Network. As of March 2017, she works as an administrator for AFL Northern Territory at the Michael Long Learning and Leadership Centre. The Michael Long Learning and Leadership Centre is a major sports facility where the Crows train in Darwin, and is also a notable educational centre for indigenous Australians. Tayla Thorn Tayla Thorn (born 31 May 1998) is an Australian rules footballer who played for the Adelaide Football Club in the AFL Women\\'s (AFLW). Thorn was captain of the first Indigenous Northern Territory representative side, and won a \"best and fairest\" award at her home club, St',\n",
       "   'title': 'Tayla Thorn'},\n",
       "  {'docid': '4699300',\n",
       "   'text': \"Queen at Christmas was initiated by James Montague, Bishop of Bath and Wells during James I's reign, who sent a branch to Queen Anne, King James I's consort. A spray of thorn was sent to the Sovereign each Christmas by the Vicar and Mayor of Glastonbury. The thorn also featured on British Postage stamps on the 12p and 13p Christmas stamps in 1986. The Glastonbury thorn was once again attacked and its branches cut off, in this case the 1951 specimen that was growing on Wearyall Hill on the southwestern side of the town, on 9 December 2010. In March\",\n",
       "   'title': 'Glastonbury Thorn'},\n",
       "  {'docid': '20650767',\n",
       "   'text': \"1304 he oversaw a thorn from Jesus Christ's Crown of Thorns brought to the Skara diocese from Lödöse due to close ties he shared with Norwegian prelates. This had been cultivated since the 1280s after he helped in the financing of the reconstruction of the Stavanger Cathedral which had been devastated in a fire. On 2 September 1304 he greeted a Norwegian ship holding 2000 people and was presented with the thorn which was carried in solemn procession to the diocesan cathedral. This made his diocese a pilgrim destination that also generated revenue which Algotsson hoped to use to renovate\",\n",
       "   'title': 'Brinolfo Algotsson'},\n",
       "  {'docid': '12602197',\n",
       "   'text': 'the third \"Labor Slugger War\", Levinsky reportedly became \"\"a thorn in the side of clothing contractors\"\". Due to his unionizing activities, he apparently became the target of assassination by certain business interests. Other sources claim he headed a gang of gunmen and thieves which began muscling in on the territory of other \"labor sluggers\", particularly that of newsboy and labor racketeer William Lipshitz. On the morning of December 5, 1922, Levinsky was shot and killed by Lipshitz while entering a Broadway loft building where he was employed as a cutter for the Levinson Brothers. He had driven to work in',\n",
       "   'title': 'Benjamin Levinsky'},\n",
       "  {'docid': '11918841',\n",
       "   'text': 'he could come and play at Vanelli’s which vOz agreed to. After hearing Thorn perform, Wyatt Easterling (an associate of Miles Copeland III) brought Thorn to Nashville and within thirty days, Thorn opened for Sting. Thorn was subsequently signed to a recording contract with A&M Records and recorded his first album, \"Hammer & Nail,\" in 1997. He left A&M soon after and followed \"Hammer & Nail\" with thirteen more albums, all self-released and self-produced with his writing and production partner, Billy Maddox. Thorn\\'s 2010 album \"Pimps and Preachers\" debuted at No. 83 on the \"Billboard\" 200 chart, his highest chart',\n",
       "   'title': 'Paul Thorn'},\n",
       "  {'docid': '15361917',\n",
       "   'text': 'God, unto thee who art my cousin!\" In response, the Imam said, \"Salutation unto thee, o my dear father!\" which made al-Rashid furious. \"Abul-Hasan, such glory as thine is truly to be vaunted of\" said al-Rashid. Later, al-Rashid found the opportunity to question him, asking why he had permitted people to ascribe him to Muhammad and to call him: \"O Sons of Allah\\'s Apostle\", while he was actually the son of Ali, and that one is ascribed to his father, and that Fatimah, his mother, was a container, and that Muhammad was his grandfather on the side of his mother.',\n",
       "   'title': 'Musa al-Kadhim'},\n",
       "  {'docid': '19341940',\n",
       "   'text': 'plagiarism would continue to follow him as long as \"Slocum\" or \"Byng\" published in the \"Express\", Clemens asked the magazine to retract its accusation and banned \"Slocum\" and \"Byng\" from contributing to the newspaper. Thorn then began contributing articles to the \"Buffalo Courier\", a rival of the \"Express\", under the pseudonym \"Frank Clive.\" In November 1875, \"Scribner\\'s Monthly\" reprinted a \"Frank Clive\" poem that originally had appeared in the \"Courier\" on April 18, 1871. After his success in appearing in the prestigious \"Scribnerʼs Monthly\", Thorn dropped his pseudonyms and began writing under his own name. In 1870, Thorn was elected',\n",
       "   'title': 'Frank Manly Thorn'},\n",
       "  {'docid': '6262492',\n",
       "   'text': \"sport in his mid-twenties. He won 59 international caps for New Zealand, and was part of the team that won the 2011 World Cup. After retiring in 2015, he became a coach, and was appointed head coach of the Reds in October 2017. Having relocated with his family from New Zealand to Australia at age eight, Thorn's junior football was rugby league played in Queensland with Aspley and Wests Arana. He was signed as a junior with the Brisbane Broncos in 1994 and that same year represented Australia in the Junior Kangaroos side. Thorn made his first grade debut in\",\n",
       "   'title': 'Brad Thorn'},\n",
       "  {'docid': '15448232',\n",
       "   'text': 'sat with the coroner during the inquest (16–19 November June 1975), when the jury returned the verdict that Lord Lucan should stand trial at The Old Bailey charged with the murder of Sandra Rivett. Lord Lucan had disappeared and has never been found. As Deputy Coroner he was consulted and involved in all stages following the death of Georgi Markov, who died on 11 November 1978. Markov was a Bulgarian working for the BBC World Service and considered a thorn in the side of the Communist authorities. His cause of death was by a pellet probably containing ricin (which was',\n",
       "   'title': 'Paul Knapman'},\n",
       "  {'docid': '4749510',\n",
       "   'text': 'and Germany over Spain, France cannot count on British support.\" Van Paassen was convinced that the British Empire\\'s farsighted military planners and political leaders were not entirely displeased to see France\\'s position weakened by Germany at that time, as it improved Britain\\'s relative dominance over its ancient rival, France, in Britain\\'s drive for worldwide hegemony. \"By his intervention in Spain, Herr Hitler, moreover, rendered Britain the immense service of laying an ax to the French military hegemony in Europe (which had been a thorn in Britain\\'s side ever since Versailles). By the creation of a third hostile frontier, he made',\n",
       "   'title': 'Pierre van Paassen'},\n",
       "  {'docid': '20149338',\n",
       "   'text': 'As captain of the Greek fleet against the Ottoman Empire he had become a thorn in the side of the Sultan. Greeks called him Katsonis, the Italians called Lambro Cazziani, Cazzoni. Ali Kaceni, the name that history remembers him by, is said to be a derivative of Katsonis. As he was attributed with defeating Lambros, thus earning his name of Ali Kaceni; Ali, the one who slew Labro Katsonis. In the legend of Lambros, it said that he died in battle with the Turks in Crimea; which culminates to the legend we know about Likaceni. Due to Karalambro (Black Lambro)',\n",
       "   'title': 'Lika Ceni'},\n",
       "  {'docid': '18582769',\n",
       "   'text': \"is a scene depicting the way of the cross with a centurion, on horseback, whilst a second centurian holds the lance which had pierced Jesus' side. At each corner of the pedestal are statues of the evangelists, Matthew the Apostle with his attribute the child, Luke the Evangelist who sits on a bull, Mark the Evangelist with a lion and John the Evangelist with an eagle. There is also a sculpture depicting Christ carry the cross and Saint Veronica holding up the veil on which Jesus' image has appeared and finally a pietà, the Virgin Mary holding the body of\",\n",
       "   'title': 'Calvary at Guéhenno'},\n",
       "  {'docid': '631141',\n",
       "   'text': 'next studio record, \"The Queen Is Dead\". The album was released in June 1986, shortly after the single \"Bigmouth Strikes Again\". The single again featured Marr\\'s strident acoustic guitar rhythms and lead melody guitar lines with wide leaps. Marr overdubbed synthesisers on several tracks such as \"There Is a Light That Never Goes Out\" and \"The Boy with the Thorn in His Side\". Upon its release, \"The Queen Is Dead\" reached number two in the UK charts; it consisted of a mixture of mordant bleakness (e.g. \"Never Had No One Ever\", which seemed to play up to stereotypes of the',\n",
       "   'title': 'The Smiths'}]}"
      ]
     },
     "execution_count": 22,
     "metadata": {},
     "output_type": "execute_result"
    }
   ],
   "source": [
    "data[776297-1]"
   ]
  },
  {
   "cell_type": "code",
   "execution_count": 8,
   "metadata": {},
   "outputs": [],
   "source": [
    "import pandas as pd\n",
    "data = pd.DataFrame(data)"
   ]
  },
  {
   "cell_type": "code",
   "execution_count": 20,
   "metadata": {},
   "outputs": [
    {
     "data": {
      "text/html": [
       "<div>\n",
       "<style scoped>\n",
       "    .dataframe tbody tr th:only-of-type {\n",
       "        vertical-align: middle;\n",
       "    }\n",
       "\n",
       "    .dataframe tbody tr th {\n",
       "        vertical-align: top;\n",
       "    }\n",
       "\n",
       "    .dataframe thead th {\n",
       "        text-align: right;\n",
       "    }\n",
       "</style>\n",
       "<table border=\"1\" class=\"dataframe\">\n",
       "  <thead>\n",
       "    <tr style=\"text-align: right;\">\n",
       "      <th></th>\n",
       "      <th>query_id</th>\n",
       "      <th>query</th>\n",
       "      <th>answers</th>\n",
       "      <th>positive_passages</th>\n",
       "      <th>negative_passages</th>\n",
       "    </tr>\n",
       "  </thead>\n",
       "  <tbody>\n",
       "    <tr>\n",
       "      <th>4493</th>\n",
       "      <td>4510</td>\n",
       "      <td>how many number one hits did elvis presley have</td>\n",
       "      <td>[18]</td>\n",
       "      <td>[{'docid': '16303262', 'text': 'hit single to ...</td>\n",
       "      <td>[{'docid': '16303271', 'text': '1977. Soon aft...</td>\n",
       "    </tr>\n",
       "  </tbody>\n",
       "</table>\n",
       "</div>"
      ],
      "text/plain": [
       "     query_id                                            query answers  \\\n",
       "4493     4510  how many number one hits did elvis presley have    [18]   \n",
       "\n",
       "                                      positive_passages  \\\n",
       "4493  [{'docid': '16303262', 'text': 'hit single to ...   \n",
       "\n",
       "                                      negative_passages  \n",
       "4493  [{'docid': '16303271', 'text': '1977. Soon aft...  "
      ]
     },
     "execution_count": 20,
     "metadata": {},
     "output_type": "execute_result"
    }
   ],
   "source": [
    "data.loc[data['query_id'] == '4510']\n"
   ]
  },
  {
   "cell_type": "code",
   "execution_count": 9,
   "metadata": {},
   "outputs": [
    {
     "name": "stderr",
     "output_type": "stream",
     "text": [
      "Using custom data configuration default-0500a9f37da97f3a\n"
     ]
    },
    {
     "name": "stdout",
     "output_type": "stream",
     "text": [
      "Downloading and preparing dataset json/default to /data/tanhexiang/.cache/huggingface/datasets/json/default-0500a9f37da97f3a/0.0.0/c90812beea906fcffe0d5e3bb9eba909a80a998b5f88e9f8acbd320aa91acfde...\n"
     ]
    },
    {
     "name": "stderr",
     "output_type": "stream",
     "text": [
      "100%|██████████| 1/1 [00:00<00:00, 972.25it/s]\n",
      "100%|██████████| 1/1 [00:00<00:00, 670.55it/s]\n"
     ]
    },
    {
     "name": "stdout",
     "output_type": "stream",
     "text": [
      "Dataset json downloaded and prepared to /data/tanhexiang/.cache/huggingface/datasets/json/default-0500a9f37da97f3a/0.0.0/c90812beea906fcffe0d5e3bb9eba909a80a998b5f88e9f8acbd320aa91acfde. Subsequent calls will reuse this data.\n"
     ]
    },
    {
     "name": "stderr",
     "output_type": "stream",
     "text": [
      "100%|██████████| 1/1 [00:00<00:00, 75.67it/s]\n"
     ]
    }
   ],
   "source": [
    "from datasets import load_dataset\n",
    "data = load_dataset(\"json\", data_files=\"data_nq/result100/fid.nq.train.jsonl\")['train']"
   ]
  },
  {
   "cell_type": "code",
   "execution_count": 11,
   "metadata": {},
   "outputs": [
    {
     "data": {
      "text/plain": [
       "['id', 'question', 'answers', 'ctxs']"
      ]
     },
     "execution_count": 11,
     "metadata": {},
     "output_type": "execute_result"
    }
   ],
   "source": [
    "data.column_names\n"
   ]
  },
  {
   "cell_type": "code",
   "execution_count": 2,
   "metadata": {},
   "outputs": [
    {
     "name": "stderr",
     "output_type": "stream",
     "text": [
      "Using custom data configuration default-7b52c9182c3f36e5\n"
     ]
    },
    {
     "name": "stdout",
     "output_type": "stream",
     "text": [
      "Downloading and preparing dataset csv/default to /data/tanhexiang/.cache/huggingface/datasets/csv/default-7b52c9182c3f36e5/0.0.0/6b9057d9e23d9d8a2f05b985917a0da84d70c5dae3d22ddd8a3f22fb01c69d9e...\n"
     ]
    },
    {
     "name": "stderr",
     "output_type": "stream",
     "text": [
      "100%|██████████| 1/1 [00:00<00:00, 2535.85it/s]\n",
      "100%|██████████| 1/1 [00:00<00:00, 432.40it/s]\n",
      "/home/tanhexiang/miniconda3/envs/tevatron/lib/python3.9/site-packages/datasets/packaged_modules/csv/csv.py:156: FutureWarning: the 'mangle_dupe_cols' keyword is deprecated and will be removed in a future version. Please take steps to stop the use of 'mangle_dupe_cols'\n",
      "  csv_file_reader = pd.read_csv(file, iterator=True, dtype=dtype, **self.config.read_csv_kwargs)\n"
     ]
    },
    {
     "ename": "AttributeError",
     "evalue": "'TextFileReader' object has no attribute 'f'",
     "output_type": "error",
     "traceback": [
      "\u001b[0;31m---------------------------------------------------------------------------\u001b[0m",
      "\u001b[0;31mParserError\u001b[0m                               Traceback (most recent call last)",
      "File \u001b[0;32m~/miniconda3/envs/tevatron/lib/python3.9/site-packages/datasets/packaged_modules/csv/csv.py:158\u001b[0m, in \u001b[0;36mCsv._generate_tables\u001b[0;34m(self, files)\u001b[0m\n\u001b[1;32m    157\u001b[0m \u001b[39mtry\u001b[39;00m:\n\u001b[0;32m--> 158\u001b[0m     \u001b[39mfor\u001b[39;00m batch_idx, df \u001b[39min\u001b[39;00m \u001b[39menumerate\u001b[39m(csv_file_reader):\n\u001b[1;32m    159\u001b[0m         pa_table \u001b[39m=\u001b[39m pa\u001b[39m.\u001b[39mTable\u001b[39m.\u001b[39mfrom_pandas(df, schema\u001b[39m=\u001b[39mschema)\n",
      "File \u001b[0;32m~/miniconda3/envs/tevatron/lib/python3.9/site-packages/pandas/io/parsers/readers.py:1698\u001b[0m, in \u001b[0;36mTextFileReader.__next__\u001b[0;34m(self)\u001b[0m\n\u001b[1;32m   1697\u001b[0m \u001b[39mtry\u001b[39;00m:\n\u001b[0;32m-> 1698\u001b[0m     \u001b[39mreturn\u001b[39;00m \u001b[39mself\u001b[39;49m\u001b[39m.\u001b[39;49mget_chunk()\n\u001b[1;32m   1699\u001b[0m \u001b[39mexcept\u001b[39;00m \u001b[39mStopIteration\u001b[39;00m:\n",
      "File \u001b[0;32m~/miniconda3/envs/tevatron/lib/python3.9/site-packages/pandas/io/parsers/readers.py:1810\u001b[0m, in \u001b[0;36mTextFileReader.get_chunk\u001b[0;34m(self, size)\u001b[0m\n\u001b[1;32m   1809\u001b[0m     size \u001b[39m=\u001b[39m \u001b[39mmin\u001b[39m(size, \u001b[39mself\u001b[39m\u001b[39m.\u001b[39mnrows \u001b[39m-\u001b[39m \u001b[39mself\u001b[39m\u001b[39m.\u001b[39m_currow)\n\u001b[0;32m-> 1810\u001b[0m \u001b[39mreturn\u001b[39;00m \u001b[39mself\u001b[39;49m\u001b[39m.\u001b[39;49mread(nrows\u001b[39m=\u001b[39;49msize)\n",
      "File \u001b[0;32m~/miniconda3/envs/tevatron/lib/python3.9/site-packages/pandas/io/parsers/readers.py:1778\u001b[0m, in \u001b[0;36mTextFileReader.read\u001b[0;34m(self, nrows)\u001b[0m\n\u001b[1;32m   1772\u001b[0m \u001b[39mtry\u001b[39;00m:\n\u001b[1;32m   1773\u001b[0m     \u001b[39m# error: \"ParserBase\" has no attribute \"read\"\u001b[39;00m\n\u001b[1;32m   1774\u001b[0m     (\n\u001b[1;32m   1775\u001b[0m         index,\n\u001b[1;32m   1776\u001b[0m         columns,\n\u001b[1;32m   1777\u001b[0m         col_dict,\n\u001b[0;32m-> 1778\u001b[0m     ) \u001b[39m=\u001b[39m \u001b[39mself\u001b[39;49m\u001b[39m.\u001b[39;49m_engine\u001b[39m.\u001b[39;49mread(  \u001b[39m# type: ignore[attr-defined]\u001b[39;49;00m\n\u001b[1;32m   1779\u001b[0m         nrows\n\u001b[1;32m   1780\u001b[0m     )\n\u001b[1;32m   1781\u001b[0m \u001b[39mexcept\u001b[39;00m \u001b[39mException\u001b[39;00m:\n",
      "File \u001b[0;32m~/miniconda3/envs/tevatron/lib/python3.9/site-packages/pandas/io/parsers/c_parser_wrapper.py:230\u001b[0m, in \u001b[0;36mCParserWrapper.read\u001b[0;34m(self, nrows)\u001b[0m\n\u001b[1;32m    229\u001b[0m \u001b[39mif\u001b[39;00m \u001b[39mself\u001b[39m\u001b[39m.\u001b[39mlow_memory:\n\u001b[0;32m--> 230\u001b[0m     chunks \u001b[39m=\u001b[39m \u001b[39mself\u001b[39;49m\u001b[39m.\u001b[39;49m_reader\u001b[39m.\u001b[39;49mread_low_memory(nrows)\n\u001b[1;32m    231\u001b[0m     \u001b[39m# destructive to chunks\u001b[39;00m\n",
      "File \u001b[0;32m~/miniconda3/envs/tevatron/lib/python3.9/site-packages/pandas/_libs/parsers.pyx:820\u001b[0m, in \u001b[0;36mpandas._libs.parsers.TextReader.read_low_memory\u001b[0;34m()\u001b[0m\n",
      "File \u001b[0;32m~/miniconda3/envs/tevatron/lib/python3.9/site-packages/pandas/_libs/parsers.pyx:866\u001b[0m, in \u001b[0;36mpandas._libs.parsers.TextReader._read_rows\u001b[0;34m()\u001b[0m\n",
      "File \u001b[0;32m~/miniconda3/envs/tevatron/lib/python3.9/site-packages/pandas/_libs/parsers.pyx:852\u001b[0m, in \u001b[0;36mpandas._libs.parsers.TextReader._tokenize_rows\u001b[0;34m()\u001b[0m\n",
      "File \u001b[0;32m~/miniconda3/envs/tevatron/lib/python3.9/site-packages/pandas/_libs/parsers.pyx:1973\u001b[0m, in \u001b[0;36mpandas._libs.parsers.raise_parser_error\u001b[0;34m()\u001b[0m\n",
      "\u001b[0;31mParserError\u001b[0m: Error tokenizing data. C error: Expected 10 fields in line 4, saw 12\n",
      "\nDuring handling of the above exception, another exception occurred:\n",
      "\u001b[0;31mAttributeError\u001b[0m                            Traceback (most recent call last)",
      "Cell \u001b[0;32mIn[2], line 2\u001b[0m\n\u001b[1;32m      1\u001b[0m \u001b[39mfrom\u001b[39;00m \u001b[39mdatasets\u001b[39;00m \u001b[39mimport\u001b[39;00m load_dataset\n\u001b[0;32m----> 2\u001b[0m dataset \u001b[39m=\u001b[39m load_dataset(\u001b[39m\"\u001b[39;49m\u001b[39mcsv\u001b[39;49m\u001b[39m\"\u001b[39;49m, data_files\u001b[39m=\u001b[39;49m\u001b[39m\"\u001b[39;49m\u001b[39m/data/tanhexiang/CF_QA/data/wikipedia_split/psgs_w100.tsv\u001b[39;49m\u001b[39m\"\u001b[39;49m, split\u001b[39m=\u001b[39;49m\u001b[39m'\u001b[39;49m\u001b[39m\\t\u001b[39;49;00m\u001b[39m'\u001b[39;49m)\n",
      "File \u001b[0;32m~/miniconda3/envs/tevatron/lib/python3.9/site-packages/datasets/load.py:1694\u001b[0m, in \u001b[0;36mload_dataset\u001b[0;34m(path, name, data_dir, data_files, split, cache_dir, features, download_config, download_mode, ignore_verifications, keep_in_memory, save_infos, revision, use_auth_token, task, streaming, script_version, **config_kwargs)\u001b[0m\n\u001b[1;32m   1691\u001b[0m try_from_hf_gcs \u001b[39m=\u001b[39m path \u001b[39mnot\u001b[39;00m \u001b[39min\u001b[39;00m _PACKAGED_DATASETS_MODULES\n\u001b[1;32m   1693\u001b[0m \u001b[39m# Download and prepare data\u001b[39;00m\n\u001b[0;32m-> 1694\u001b[0m builder_instance\u001b[39m.\u001b[39;49mdownload_and_prepare(\n\u001b[1;32m   1695\u001b[0m     download_config\u001b[39m=\u001b[39;49mdownload_config,\n\u001b[1;32m   1696\u001b[0m     download_mode\u001b[39m=\u001b[39;49mdownload_mode,\n\u001b[1;32m   1697\u001b[0m     ignore_verifications\u001b[39m=\u001b[39;49mignore_verifications,\n\u001b[1;32m   1698\u001b[0m     try_from_hf_gcs\u001b[39m=\u001b[39;49mtry_from_hf_gcs,\n\u001b[1;32m   1699\u001b[0m     use_auth_token\u001b[39m=\u001b[39;49muse_auth_token,\n\u001b[1;32m   1700\u001b[0m )\n\u001b[1;32m   1702\u001b[0m \u001b[39m# Build dataset for splits\u001b[39;00m\n\u001b[1;32m   1703\u001b[0m keep_in_memory \u001b[39m=\u001b[39m (\n\u001b[1;32m   1704\u001b[0m     keep_in_memory \u001b[39mif\u001b[39;00m keep_in_memory \u001b[39mis\u001b[39;00m \u001b[39mnot\u001b[39;00m \u001b[39mNone\u001b[39;00m \u001b[39melse\u001b[39;00m is_small_dataset(builder_instance\u001b[39m.\u001b[39minfo\u001b[39m.\u001b[39mdataset_size)\n\u001b[1;32m   1705\u001b[0m )\n",
      "File \u001b[0;32m~/miniconda3/envs/tevatron/lib/python3.9/site-packages/datasets/builder.py:595\u001b[0m, in \u001b[0;36mDatasetBuilder.download_and_prepare\u001b[0;34m(self, download_config, download_mode, ignore_verifications, try_from_hf_gcs, dl_manager, base_path, use_auth_token, **download_and_prepare_kwargs)\u001b[0m\n\u001b[1;32m    593\u001b[0m         logger\u001b[39m.\u001b[39mwarning(\u001b[39m\"\u001b[39m\u001b[39mHF google storage unreachable. Downloading and preparing it from source\u001b[39m\u001b[39m\"\u001b[39m)\n\u001b[1;32m    594\u001b[0m \u001b[39mif\u001b[39;00m \u001b[39mnot\u001b[39;00m downloaded_from_gcs:\n\u001b[0;32m--> 595\u001b[0m     \u001b[39mself\u001b[39;49m\u001b[39m.\u001b[39;49m_download_and_prepare(\n\u001b[1;32m    596\u001b[0m         dl_manager\u001b[39m=\u001b[39;49mdl_manager, verify_infos\u001b[39m=\u001b[39;49mverify_infos, \u001b[39m*\u001b[39;49m\u001b[39m*\u001b[39;49mdownload_and_prepare_kwargs\n\u001b[1;32m    597\u001b[0m     )\n\u001b[1;32m    598\u001b[0m \u001b[39m# Sync info\u001b[39;00m\n\u001b[1;32m    599\u001b[0m \u001b[39mself\u001b[39m\u001b[39m.\u001b[39minfo\u001b[39m.\u001b[39mdataset_size \u001b[39m=\u001b[39m \u001b[39msum\u001b[39m(split\u001b[39m.\u001b[39mnum_bytes \u001b[39mfor\u001b[39;00m split \u001b[39min\u001b[39;00m \u001b[39mself\u001b[39m\u001b[39m.\u001b[39minfo\u001b[39m.\u001b[39msplits\u001b[39m.\u001b[39mvalues())\n",
      "File \u001b[0;32m~/miniconda3/envs/tevatron/lib/python3.9/site-packages/datasets/builder.py:683\u001b[0m, in \u001b[0;36mDatasetBuilder._download_and_prepare\u001b[0;34m(self, dl_manager, verify_infos, **prepare_split_kwargs)\u001b[0m\n\u001b[1;32m    679\u001b[0m split_dict\u001b[39m.\u001b[39madd(split_generator\u001b[39m.\u001b[39msplit_info)\n\u001b[1;32m    681\u001b[0m \u001b[39mtry\u001b[39;00m:\n\u001b[1;32m    682\u001b[0m     \u001b[39m# Prepare split will record examples associated to the split\u001b[39;00m\n\u001b[0;32m--> 683\u001b[0m     \u001b[39mself\u001b[39;49m\u001b[39m.\u001b[39;49m_prepare_split(split_generator, \u001b[39m*\u001b[39;49m\u001b[39m*\u001b[39;49mprepare_split_kwargs)\n\u001b[1;32m    684\u001b[0m \u001b[39mexcept\u001b[39;00m \u001b[39mOSError\u001b[39;00m \u001b[39mas\u001b[39;00m e:\n\u001b[1;32m    685\u001b[0m     \u001b[39mraise\u001b[39;00m \u001b[39mOSError\u001b[39;00m(\n\u001b[1;32m    686\u001b[0m         \u001b[39m\"\u001b[39m\u001b[39mCannot find data file. \u001b[39m\u001b[39m\"\u001b[39m\n\u001b[1;32m    687\u001b[0m         \u001b[39m+\u001b[39m (\u001b[39mself\u001b[39m\u001b[39m.\u001b[39mmanual_download_instructions \u001b[39mor\u001b[39;00m \u001b[39m\"\u001b[39m\u001b[39m\"\u001b[39m)\n\u001b[1;32m    688\u001b[0m         \u001b[39m+\u001b[39m \u001b[39m\"\u001b[39m\u001b[39m\\n\u001b[39;00m\u001b[39mOriginal error:\u001b[39m\u001b[39m\\n\u001b[39;00m\u001b[39m\"\u001b[39m\n\u001b[1;32m    689\u001b[0m         \u001b[39m+\u001b[39m \u001b[39mstr\u001b[39m(e)\n\u001b[1;32m    690\u001b[0m     ) \u001b[39mfrom\u001b[39;00m \u001b[39mNone\u001b[39m\n",
      "File \u001b[0;32m~/miniconda3/envs/tevatron/lib/python3.9/site-packages/datasets/builder.py:1135\u001b[0m, in \u001b[0;36mArrowBasedBuilder._prepare_split\u001b[0;34m(self, split_generator)\u001b[0m\n\u001b[1;32m   1133\u001b[0m generator \u001b[39m=\u001b[39m \u001b[39mself\u001b[39m\u001b[39m.\u001b[39m_generate_tables(\u001b[39m*\u001b[39m\u001b[39m*\u001b[39msplit_generator\u001b[39m.\u001b[39mgen_kwargs)\n\u001b[1;32m   1134\u001b[0m \u001b[39mwith\u001b[39;00m ArrowWriter(features\u001b[39m=\u001b[39m\u001b[39mself\u001b[39m\u001b[39m.\u001b[39minfo\u001b[39m.\u001b[39mfeatures, path\u001b[39m=\u001b[39mfpath) \u001b[39mas\u001b[39;00m writer:\n\u001b[0;32m-> 1135\u001b[0m     \u001b[39mfor\u001b[39;00m key, table \u001b[39min\u001b[39;00m utils\u001b[39m.\u001b[39mtqdm(\n\u001b[1;32m   1136\u001b[0m         generator, unit\u001b[39m=\u001b[39m\u001b[39m\"\u001b[39m\u001b[39m tables\u001b[39m\u001b[39m\"\u001b[39m, leave\u001b[39m=\u001b[39m\u001b[39mFalse\u001b[39;00m, disable\u001b[39m=\u001b[39m\u001b[39mTrue\u001b[39;00m  \u001b[39m# bool(logging.get_verbosity() == logging.NOTSET)\u001b[39;00m\n\u001b[1;32m   1137\u001b[0m     ):\n\u001b[1;32m   1138\u001b[0m         writer\u001b[39m.\u001b[39mwrite_table(table)\n\u001b[1;32m   1139\u001b[0m     num_examples, num_bytes \u001b[39m=\u001b[39m writer\u001b[39m.\u001b[39mfinalize()\n",
      "File \u001b[0;32m~/miniconda3/envs/tevatron/lib/python3.9/site-packages/tqdm/std.py:1166\u001b[0m, in \u001b[0;36mtqdm.__iter__\u001b[0;34m(self)\u001b[0m\n\u001b[1;32m   1163\u001b[0m \u001b[39m# If the bar is disabled, then just walk the iterable\u001b[39;00m\n\u001b[1;32m   1164\u001b[0m \u001b[39m# (note: keep this check outside the loop for performance)\u001b[39;00m\n\u001b[1;32m   1165\u001b[0m \u001b[39mif\u001b[39;00m \u001b[39mself\u001b[39m\u001b[39m.\u001b[39mdisable:\n\u001b[0;32m-> 1166\u001b[0m     \u001b[39mfor\u001b[39;00m obj \u001b[39min\u001b[39;00m iterable:\n\u001b[1;32m   1167\u001b[0m         \u001b[39myield\u001b[39;00m obj\n\u001b[1;32m   1168\u001b[0m     \u001b[39mreturn\u001b[39;00m\n",
      "File \u001b[0;32m~/miniconda3/envs/tevatron/lib/python3.9/site-packages/datasets/packaged_modules/csv/csv.py:165\u001b[0m, in \u001b[0;36mCsv._generate_tables\u001b[0;34m(self, files)\u001b[0m\n\u001b[1;32m    163\u001b[0m         \u001b[39myield\u001b[39;00m (file_idx, batch_idx), pa_table\n\u001b[1;32m    164\u001b[0m \u001b[39mexcept\u001b[39;00m \u001b[39mValueError\u001b[39;00m \u001b[39mas\u001b[39;00m e:\n\u001b[0;32m--> 165\u001b[0m     logger\u001b[39m.\u001b[39merror(\u001b[39mf\u001b[39m\u001b[39m\"\u001b[39m\u001b[39mFailed to read file \u001b[39m\u001b[39m'\u001b[39m\u001b[39m{\u001b[39;00mcsv_file_reader\u001b[39m.\u001b[39;49mf\u001b[39m}\u001b[39;00m\u001b[39m'\u001b[39m\u001b[39m with error \u001b[39m\u001b[39m{\u001b[39;00m\u001b[39mtype\u001b[39m(e)\u001b[39m}\u001b[39;00m\u001b[39m: \u001b[39m\u001b[39m{\u001b[39;00me\u001b[39m}\u001b[39;00m\u001b[39m\"\u001b[39m)\n\u001b[1;32m    166\u001b[0m     \u001b[39mraise\u001b[39;00m\n",
      "\u001b[0;31mAttributeError\u001b[0m: 'TextFileReader' object has no attribute 'f'"
     ]
    }
   ],
   "source": [
    "from datasets import load_dataset\n",
    "import pandas\n",
    "data = pandas.read_csv(, sep='\\t')"
   ]
  },
  {
   "cell_type": "code",
   "execution_count": null,
   "metadata": {},
   "outputs": [],
   "source": [
    "dataset['train'].column_names"
   ]
  },
  {
   "cell_type": "code",
   "execution_count": 1,
   "metadata": {},
   "outputs": [
    {
     "name": "stderr",
     "output_type": "stream",
     "text": [
      "/home/tanhexiang/miniconda3/envs/tevatron/lib/python3.9/site-packages/tqdm/auto.py:21: TqdmWarning: IProgress not found. Please update jupyter and ipywidgets. See https://ipywidgets.readthedocs.io/en/stable/user_install.html\n",
      "  from .autonotebook import tqdm as notebook_tqdm\n"
     ]
    },
    {
     "ename": "ValueError",
     "evalue": "Connection error, and we cannot find the requested files in the cached path. Please try again or make sure your Internet connection is on.",
     "output_type": "error",
     "traceback": [
      "\u001b[0;31m---------------------------------------------------------------------------\u001b[0m",
      "\u001b[0;31mValueError\u001b[0m                                Traceback (most recent call last)",
      "Cell \u001b[0;32mIn[1], line 3\u001b[0m\n\u001b[1;32m      1\u001b[0m \u001b[39mfrom\u001b[39;00m \u001b[39mtransformers\u001b[39;00m \u001b[39mimport\u001b[39;00m AutoTokenizer\n\u001b[0;32m----> 3\u001b[0m tokenizer \u001b[39m=\u001b[39m AutoTokenizer\u001b[39m.\u001b[39;49mfrom_pretrained(\u001b[39m\"\u001b[39;49m\u001b[39mbert-base-cased\u001b[39;49m\u001b[39m\"\u001b[39;49m)\n\u001b[1;32m      5\u001b[0m text \u001b[39m=\u001b[39m \u001b[39m\"\u001b[39m\u001b[39mwhere is beijing?\u001b[39m\u001b[39m\"\u001b[39m\n\u001b[1;32m      6\u001b[0m output \u001b[39m=\u001b[39m tokenizer\u001b[39m.\u001b[39mencode(text)\n",
      "File \u001b[0;32m~/miniconda3/envs/tevatron/lib/python3.9/site-packages/transformers/models/auto/tokenization_auto.py:481\u001b[0m, in \u001b[0;36mAutoTokenizer.from_pretrained\u001b[0;34m(cls, pretrained_model_name_or_path, *inputs, **kwargs)\u001b[0m\n\u001b[1;32m    478\u001b[0m     \u001b[39mreturn\u001b[39;00m tokenizer_class\u001b[39m.\u001b[39mfrom_pretrained(pretrained_model_name_or_path, \u001b[39m*\u001b[39minputs, \u001b[39m*\u001b[39m\u001b[39m*\u001b[39mkwargs)\n\u001b[1;32m    480\u001b[0m \u001b[39m# Next, let's try to use the tokenizer_config file to get the tokenizer class.\u001b[39;00m\n\u001b[0;32m--> 481\u001b[0m tokenizer_config \u001b[39m=\u001b[39m get_tokenizer_config(pretrained_model_name_or_path, \u001b[39m*\u001b[39;49m\u001b[39m*\u001b[39;49mkwargs)\n\u001b[1;32m    482\u001b[0m config_tokenizer_class \u001b[39m=\u001b[39m tokenizer_config\u001b[39m.\u001b[39mget(\u001b[39m\"\u001b[39m\u001b[39mtokenizer_class\u001b[39m\u001b[39m\"\u001b[39m)\n\u001b[1;32m    483\u001b[0m tokenizer_auto_map \u001b[39m=\u001b[39m tokenizer_config\u001b[39m.\u001b[39mget(\u001b[39m\"\u001b[39m\u001b[39mauto_map\u001b[39m\u001b[39m\"\u001b[39m)\n",
      "File \u001b[0;32m~/miniconda3/envs/tevatron/lib/python3.9/site-packages/transformers/models/auto/tokenization_auto.py:343\u001b[0m, in \u001b[0;36mget_tokenizer_config\u001b[0;34m(pretrained_model_name_or_path, cache_dir, force_download, resume_download, proxies, use_auth_token, revision, local_files_only, **kwargs)\u001b[0m\n\u001b[1;32m    337\u001b[0m     config_file \u001b[39m=\u001b[39m hf_bucket_url(\n\u001b[1;32m    338\u001b[0m         pretrained_model_name_or_path, filename\u001b[39m=\u001b[39mTOKENIZER_CONFIG_FILE, revision\u001b[39m=\u001b[39mrevision, mirror\u001b[39m=\u001b[39m\u001b[39mNone\u001b[39;00m\n\u001b[1;32m    339\u001b[0m     )\n\u001b[1;32m    341\u001b[0m \u001b[39mtry\u001b[39;00m:\n\u001b[1;32m    342\u001b[0m     \u001b[39m# Load from URL or cache if already cached\u001b[39;00m\n\u001b[0;32m--> 343\u001b[0m     resolved_config_file \u001b[39m=\u001b[39m cached_path(\n\u001b[1;32m    344\u001b[0m         config_file,\n\u001b[1;32m    345\u001b[0m         cache_dir\u001b[39m=\u001b[39;49mcache_dir,\n\u001b[1;32m    346\u001b[0m         force_download\u001b[39m=\u001b[39;49mforce_download,\n\u001b[1;32m    347\u001b[0m         proxies\u001b[39m=\u001b[39;49mproxies,\n\u001b[1;32m    348\u001b[0m         resume_download\u001b[39m=\u001b[39;49mresume_download,\n\u001b[1;32m    349\u001b[0m         local_files_only\u001b[39m=\u001b[39;49mlocal_files_only,\n\u001b[1;32m    350\u001b[0m         use_auth_token\u001b[39m=\u001b[39;49muse_auth_token,\n\u001b[1;32m    351\u001b[0m     )\n\u001b[1;32m    353\u001b[0m \u001b[39mexcept\u001b[39;00m \u001b[39mEnvironmentError\u001b[39;00m:\n\u001b[1;32m    354\u001b[0m     logger\u001b[39m.\u001b[39minfo(\u001b[39m\"\u001b[39m\u001b[39mCould not locate the tokenizer configuration file, will try to use the model config instead.\u001b[39m\u001b[39m\"\u001b[39m)\n",
      "File \u001b[0;32m~/miniconda3/envs/tevatron/lib/python3.9/site-packages/transformers/file_utils.py:1776\u001b[0m, in \u001b[0;36mcached_path\u001b[0;34m(url_or_filename, cache_dir, force_download, proxies, resume_download, user_agent, extract_compressed_file, force_extract, use_auth_token, local_files_only)\u001b[0m\n\u001b[1;32m   1772\u001b[0m     local_files_only \u001b[39m=\u001b[39m \u001b[39mTrue\u001b[39;00m\n\u001b[1;32m   1774\u001b[0m \u001b[39mif\u001b[39;00m is_remote_url(url_or_filename):\n\u001b[1;32m   1775\u001b[0m     \u001b[39m# URL, so get it from the cache (downloading if necessary)\u001b[39;00m\n\u001b[0;32m-> 1776\u001b[0m     output_path \u001b[39m=\u001b[39m get_from_cache(\n\u001b[1;32m   1777\u001b[0m         url_or_filename,\n\u001b[1;32m   1778\u001b[0m         cache_dir\u001b[39m=\u001b[39;49mcache_dir,\n\u001b[1;32m   1779\u001b[0m         force_download\u001b[39m=\u001b[39;49mforce_download,\n\u001b[1;32m   1780\u001b[0m         proxies\u001b[39m=\u001b[39;49mproxies,\n\u001b[1;32m   1781\u001b[0m         resume_download\u001b[39m=\u001b[39;49mresume_download,\n\u001b[1;32m   1782\u001b[0m         user_agent\u001b[39m=\u001b[39;49muser_agent,\n\u001b[1;32m   1783\u001b[0m         use_auth_token\u001b[39m=\u001b[39;49muse_auth_token,\n\u001b[1;32m   1784\u001b[0m         local_files_only\u001b[39m=\u001b[39;49mlocal_files_only,\n\u001b[1;32m   1785\u001b[0m     )\n\u001b[1;32m   1786\u001b[0m \u001b[39melif\u001b[39;00m os\u001b[39m.\u001b[39mpath\u001b[39m.\u001b[39mexists(url_or_filename):\n\u001b[1;32m   1787\u001b[0m     \u001b[39m# File, and it exists.\u001b[39;00m\n\u001b[1;32m   1788\u001b[0m     output_path \u001b[39m=\u001b[39m url_or_filename\n",
      "File \u001b[0;32m~/miniconda3/envs/tevatron/lib/python3.9/site-packages/transformers/file_utils.py:2000\u001b[0m, in \u001b[0;36mget_from_cache\u001b[0;34m(url, cache_dir, force_download, proxies, etag_timeout, resume_download, user_agent, use_auth_token, local_files_only)\u001b[0m\n\u001b[1;32m   1994\u001b[0m                 \u001b[39mraise\u001b[39;00m \u001b[39mFileNotFoundError\u001b[39;00m(\n\u001b[1;32m   1995\u001b[0m                     \u001b[39m\"\u001b[39m\u001b[39mCannot find the requested files in the cached path and outgoing traffic has been\u001b[39m\u001b[39m\"\u001b[39m\n\u001b[1;32m   1996\u001b[0m                     \u001b[39m\"\u001b[39m\u001b[39m disabled. To enable model look-ups and downloads online, set \u001b[39m\u001b[39m'\u001b[39m\u001b[39mlocal_files_only\u001b[39m\u001b[39m'\u001b[39m\u001b[39m\"\u001b[39m\n\u001b[1;32m   1997\u001b[0m                     \u001b[39m\"\u001b[39m\u001b[39m to False.\u001b[39m\u001b[39m\"\u001b[39m\n\u001b[1;32m   1998\u001b[0m                 )\n\u001b[1;32m   1999\u001b[0m             \u001b[39melse\u001b[39;00m:\n\u001b[0;32m-> 2000\u001b[0m                 \u001b[39mraise\u001b[39;00m \u001b[39mValueError\u001b[39;00m(\n\u001b[1;32m   2001\u001b[0m                     \u001b[39m\"\u001b[39m\u001b[39mConnection error, and we cannot find the requested files in the cached path.\u001b[39m\u001b[39m\"\u001b[39m\n\u001b[1;32m   2002\u001b[0m                     \u001b[39m\"\u001b[39m\u001b[39m Please try again or make sure your Internet connection is on.\u001b[39m\u001b[39m\"\u001b[39m\n\u001b[1;32m   2003\u001b[0m                 )\n\u001b[1;32m   2005\u001b[0m \u001b[39m# From now on, etag is not None.\u001b[39;00m\n\u001b[1;32m   2006\u001b[0m \u001b[39mif\u001b[39;00m os\u001b[39m.\u001b[39mpath\u001b[39m.\u001b[39mexists(cache_path) \u001b[39mand\u001b[39;00m \u001b[39mnot\u001b[39;00m force_download:\n",
      "\u001b[0;31mValueError\u001b[0m: Connection error, and we cannot find the requested files in the cached path. Please try again or make sure your Internet connection is on."
     ]
    }
   ],
   "source": [
    "from transformers import AutoTokenizer\n",
    "\n",
    "tokenizer = AutoTokenizer.from_pretrained(\"bert-base-cased\")\n",
    "\n",
    "text = \"where is beijing?\"\n",
    "output = tokenizer.encode(text)\n",
    "output"
   ]
  }
 ],
 "metadata": {
  "kernelspec": {
   "display_name": "tevatron",
   "language": "python",
   "name": "python3"
  },
  "language_info": {
   "codemirror_mode": {
    "name": "ipython",
    "version": 3
   },
   "file_extension": ".py",
   "mimetype": "text/x-python",
   "name": "python",
   "nbconvert_exporter": "python",
   "pygments_lexer": "ipython3",
   "version": "3.9.16"
  },
  "orig_nbformat": 4,
  "vscode": {
   "interpreter": {
    "hash": "30aaa4319726862cc784429d0a91e324c2a61ec57b8593b010475124e4b4be06"
   }
  }
 },
 "nbformat": 4,
 "nbformat_minor": 2
}
